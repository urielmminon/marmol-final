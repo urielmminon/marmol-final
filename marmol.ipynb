{
 "cells": [
  {
   "cell_type": "code",
   "execution_count": 1,
   "metadata": {
    "collapsed": true
   },
   "outputs": [],
   "source": [
    "import feather\n",
    "import numpy as np\n",
    "import pandas as pd\n",
    "from sklearn.model_selection import train_test_split"
   ]
  },
  {
   "cell_type": "code",
   "execution_count": 2,
   "metadata": {
    "collapsed": true
   },
   "outputs": [],
   "source": [
    "walmart_df = feather.read_dataframe('Datos/walmart.feather')\n",
    "nrow=walmart_df['TripType'].count()\n",
    "walmart_df_Y=walmart_df['TripType']\n",
    "walmart_df=walmart_df.drop(['VisitNumber', 'TripType'], axis=1)"
   ]
  },
  {
   "cell_type": "code",
   "execution_count": 3,
   "metadata": {
    "collapsed": true
   },
   "outputs": [],
   "source": [
    "df_Weekday = pd.get_dummies(walmart_df['Weekday'])"
   ]
  },
  {
   "cell_type": "code",
   "execution_count": 4,
   "metadata": {
    "collapsed": true
   },
   "outputs": [],
   "source": [
    "walmart_df = pd.concat([walmart_df, df_Weekday], axis=1)\n",
    "walmart_df = walmart_df.drop('Weekday', axis=1)"
   ]
  },
  {
   "cell_type": "code",
   "execution_count": 5,
   "metadata": {
    "collapsed": true
   },
   "outputs": [],
   "source": [
    "X_train, X_test, y_train, y_test = train_test_split(walmart_df, walmart_df_Y, random_state=0)"
   ]
  },
  {
   "cell_type": "code",
   "execution_count": 6,
   "metadata": {},
   "outputs": [
    {
     "name": "stderr",
     "output_type": "stream",
     "text": [
      "/Users/urielmiranda/miniconda3/envs/mineria/lib/python3.6/site-packages/sklearn/ensemble/weight_boosting.py:29: DeprecationWarning: numpy.core.umath_tests is an internal NumPy module and should not be imported. It will be removed in a future NumPy release.\n",
      "  from numpy.core.umath_tests import inner1d\n"
     ]
    }
   ],
   "source": [
    "from sklearn.ensemble import RandomForestClassifier\n",
    "model = RandomForestClassifier(n_estimators=100, n_jobs=-1)\n",
    "model.fit(X_train, y_train)\n",
    "y_model = model.predict(X_test)"
   ]
  },
  {
   "cell_type": "code",
   "execution_count": 10,
   "metadata": {},
   "outputs": [
    {
     "name": "stdout",
     "output_type": "stream",
     "text": [
      "Accuracy: 0.6320498348593169\n"
     ]
    }
   ],
   "source": [
    "from sklearn.metrics import accuracy_score\n",
    "print(\"Accuracy: {}\".format(accuracy_score(y_test, y_model)))"
   ]
  },
  {
   "cell_type": "code",
   "execution_count": 19,
   "metadata": {},
   "outputs": [],
   "source": [
    "classifier = RandomForestClassifier() \n",
    "hyper_param_grid = {'n_estimators': [10,100,1000], \n",
    "                    'max_depth': [20,50,100], \n",
    "                    'max_features': ['sqrt','log2'],\n",
    "                    'min_samples_split': [2,5,10], \n",
    "                    'n_jobs':[-1]},\n"
   ]
  },
  {
   "cell_type": "code",
   "execution_count": null,
   "metadata": {},
   "outputs": [
    {
     "name": "stdout",
     "output_type": "stream",
     "text": [
      "Fitting 5 folds for each of 54 candidates, totalling 270 fits\n",
      "[CV] max_depth=20, max_features=sqrt, min_samples_split=2, n_estimators=10, n_jobs=-1 \n"
     ]
    },
    {
     "name": "stderr",
     "output_type": "stream",
     "text": [
      "/Users/urielmiranda/miniconda3/envs/mineria/lib/python3.6/site-packages/sklearn/model_selection/_split.py:597: Warning: The least populated class in y has only 4 members, which is too few. The minimum number of members in any class cannot be less than n_splits=5.\n",
      "  % (min_groups, self.n_splits)), Warning)\n"
     ]
    },
    {
     "name": "stdout",
     "output_type": "stream",
     "text": [
      "[CV]  max_depth=20, max_features=sqrt, min_samples_split=2, n_estimators=10, n_jobs=-1, score=0.5586187691450849, total=   0.7s\n",
      "[CV] max_depth=20, max_features=sqrt, min_samples_split=2, n_estimators=10, n_jobs=-1 \n"
     ]
    },
    {
     "name": "stderr",
     "output_type": "stream",
     "text": [
      "[Parallel(n_jobs=1)]: Done   1 out of   1 | elapsed:    1.0s remaining:    0.0s\n"
     ]
    },
    {
     "name": "stdout",
     "output_type": "stream",
     "text": [
      "[CV]  max_depth=20, max_features=sqrt, min_samples_split=2, n_estimators=10, n_jobs=-1, score=0.5578382895744829, total=   0.7s\n",
      "[CV] max_depth=20, max_features=sqrt, min_samples_split=2, n_estimators=10, n_jobs=-1 \n"
     ]
    },
    {
     "name": "stderr",
     "output_type": "stream",
     "text": [
      "[Parallel(n_jobs=1)]: Done   2 out of   2 | elapsed:    2.0s remaining:    0.0s\n"
     ]
    },
    {
     "name": "stdout",
     "output_type": "stream",
     "text": [
      "[CV]  max_depth=20, max_features=sqrt, min_samples_split=2, n_estimators=10, n_jobs=-1, score=0.547487979931712, total=   0.8s\n",
      "[CV] max_depth=20, max_features=sqrt, min_samples_split=2, n_estimators=10, n_jobs=-1 \n",
      "[CV]  max_depth=20, max_features=sqrt, min_samples_split=2, n_estimators=10, n_jobs=-1, score=0.5548274660160335, total=   0.6s\n",
      "[CV] max_depth=20, max_features=sqrt, min_samples_split=2, n_estimators=10, n_jobs=-1 \n",
      "[CV]  max_depth=20, max_features=sqrt, min_samples_split=2, n_estimators=10, n_jobs=-1, score=0.5520368303571429, total=   0.7s\n",
      "[CV] max_depth=20, max_features=sqrt, min_samples_split=2, n_estimators=100, n_jobs=-1 \n",
      "[CV]  max_depth=20, max_features=sqrt, min_samples_split=2, n_estimators=100, n_jobs=-1, score=0.5730297967140072, total=   5.0s\n",
      "[CV] max_depth=20, max_features=sqrt, min_samples_split=2, n_estimators=100, n_jobs=-1 \n",
      "[CV]  max_depth=20, max_features=sqrt, min_samples_split=2, n_estimators=100, n_jobs=-1, score=0.5784525384776099, total=   4.8s\n",
      "[CV] max_depth=20, max_features=sqrt, min_samples_split=2, n_estimators=100, n_jobs=-1 \n",
      "[CV]  max_depth=20, max_features=sqrt, min_samples_split=2, n_estimators=100, n_jobs=-1, score=0.574315378719253, total=   4.8s\n",
      "[CV] max_depth=20, max_features=sqrt, min_samples_split=2, n_estimators=100, n_jobs=-1 \n",
      "[CV]  max_depth=20, max_features=sqrt, min_samples_split=2, n_estimators=100, n_jobs=-1, score=0.5744161728825374, total=   4.9s\n",
      "[CV] max_depth=20, max_features=sqrt, min_samples_split=2, n_estimators=100, n_jobs=-1 \n",
      "[CV]  max_depth=20, max_features=sqrt, min_samples_split=2, n_estimators=100, n_jobs=-1, score=0.5778459821428571, total=   4.8s\n",
      "[CV] max_depth=20, max_features=sqrt, min_samples_split=2, n_estimators=1000, n_jobs=-1 \n",
      "[CV]  max_depth=20, max_features=sqrt, min_samples_split=2, n_estimators=1000, n_jobs=-1, score=0.5756752993595099, total=  47.6s\n",
      "[CV] max_depth=20, max_features=sqrt, min_samples_split=2, n_estimators=1000, n_jobs=-1 \n",
      "[CV]  max_depth=20, max_features=sqrt, min_samples_split=2, n_estimators=1000, n_jobs=-1, score=0.5778257538825824, total=  46.5s\n",
      "[CV] max_depth=20, max_features=sqrt, min_samples_split=2, n_estimators=1000, n_jobs=-1 \n",
      "[CV]  max_depth=20, max_features=sqrt, min_samples_split=2, n_estimators=1000, n_jobs=-1, score=0.5762664622674378, total=  46.1s\n",
      "[CV] max_depth=20, max_features=sqrt, min_samples_split=2, n_estimators=1000, n_jobs=-1 \n",
      "[CV]  max_depth=20, max_features=sqrt, min_samples_split=2, n_estimators=1000, n_jobs=-1, score=0.5749041477866853, total=  44.8s\n",
      "[CV] max_depth=20, max_features=sqrt, min_samples_split=2, n_estimators=1000, n_jobs=-1 \n",
      "[CV]  max_depth=20, max_features=sqrt, min_samples_split=2, n_estimators=1000, n_jobs=-1, score=0.5814732142857143, total=  44.1s\n",
      "[CV] max_depth=20, max_features=sqrt, min_samples_split=5, n_estimators=10, n_jobs=-1 \n",
      "[CV]  max_depth=20, max_features=sqrt, min_samples_split=5, n_estimators=10, n_jobs=-1, score=0.5504734057365637, total=   0.7s\n",
      "[CV] max_depth=20, max_features=sqrt, min_samples_split=5, n_estimators=10, n_jobs=-1 \n",
      "[CV]  max_depth=20, max_features=sqrt, min_samples_split=5, n_estimators=10, n_jobs=-1, score=0.5593704296956613, total=   0.6s\n",
      "[CV] max_depth=20, max_features=sqrt, min_samples_split=5, n_estimators=10, n_jobs=-1 \n",
      "[CV]  max_depth=20, max_features=sqrt, min_samples_split=5, n_estimators=10, n_jobs=-1, score=0.5557800850114974, total=   0.6s\n",
      "[CV] max_depth=20, max_features=sqrt, min_samples_split=5, n_estimators=10, n_jobs=-1 \n",
      "[CV]  max_depth=20, max_features=sqrt, min_samples_split=5, n_estimators=10, n_jobs=-1, score=0.554897176716626, total=   0.6s\n",
      "[CV] max_depth=20, max_features=sqrt, min_samples_split=5, n_estimators=10, n_jobs=-1 \n",
      "[CV]  max_depth=20, max_features=sqrt, min_samples_split=5, n_estimators=10, n_jobs=-1, score=0.5546875, total=   0.6s\n",
      "[CV] max_depth=20, max_features=sqrt, min_samples_split=5, n_estimators=100, n_jobs=-1 \n",
      "[CV]  max_depth=20, max_features=sqrt, min_samples_split=5, n_estimators=100, n_jobs=-1, score=0.5749094959621276, total=   4.3s\n",
      "[CV] max_depth=20, max_features=sqrt, min_samples_split=5, n_estimators=100, n_jobs=-1 \n",
      "[CV]  max_depth=20, max_features=sqrt, min_samples_split=5, n_estimators=100, n_jobs=-1, score=0.5774775402186781, total=   4.3s\n",
      "[CV] max_depth=20, max_features=sqrt, min_samples_split=5, n_estimators=100, n_jobs=-1 \n",
      "[CV]  max_depth=20, max_features=sqrt, min_samples_split=5, n_estimators=100, n_jobs=-1, score=0.5772420040415303, total=   4.3s\n",
      "[CV] max_depth=20, max_features=sqrt, min_samples_split=5, n_estimators=100, n_jobs=-1 \n",
      "[CV]  max_depth=20, max_features=sqrt, min_samples_split=5, n_estimators=100, n_jobs=-1, score=0.5742070407807598, total=   4.3s\n",
      "[CV] max_depth=20, max_features=sqrt, min_samples_split=5, n_estimators=100, n_jobs=-1 \n",
      "[CV]  max_depth=20, max_features=sqrt, min_samples_split=5, n_estimators=100, n_jobs=-1, score=0.5784040178571429, total=   4.4s\n",
      "[CV] max_depth=20, max_features=sqrt, min_samples_split=5, n_estimators=1000, n_jobs=-1 \n",
      "[CV]  max_depth=20, max_features=sqrt, min_samples_split=5, n_estimators=1000, n_jobs=-1, score=0.5756056808688388, total=  42.1s\n",
      "[CV] max_depth=20, max_features=sqrt, min_samples_split=5, n_estimators=1000, n_jobs=-1 \n",
      "[CV]  max_depth=20, max_features=sqrt, min_samples_split=5, n_estimators=1000, n_jobs=-1, score=0.577965039348144, total=  42.3s\n",
      "[CV] max_depth=20, max_features=sqrt, min_samples_split=5, n_estimators=1000, n_jobs=-1 \n",
      "[CV]  max_depth=20, max_features=sqrt, min_samples_split=5, n_estimators=1000, n_jobs=-1, score=0.5737579262769145, total=  43.1s\n",
      "[CV] max_depth=20, max_features=sqrt, min_samples_split=5, n_estimators=1000, n_jobs=-1 \n",
      "[CV]  max_depth=20, max_features=sqrt, min_samples_split=5, n_estimators=1000, n_jobs=-1, score=0.5781805507145347, total=  42.6s\n",
      "[CV] max_depth=20, max_features=sqrt, min_samples_split=5, n_estimators=1000, n_jobs=-1 \n"
     ]
    }
   ],
   "source": [
    "from sklearn.model_selection import GridSearchCV\n",
    "\n",
    "grid_search = GridSearchCV(classifier, hyper_param_grid, cv = 5, verbose = 3)\n",
    "\n",
    "grid_search.fit(X_train, y_train)\n",
    "\n",
    "grid_search.best_score_"
   ]
  },
  {
   "cell_type": "code",
   "execution_count": null,
   "metadata": {
    "collapsed": true
   },
   "outputs": [],
   "source": []
  },
  {
   "cell_type": "code",
   "execution_count": null,
   "metadata": {
    "collapsed": true
   },
   "outputs": [],
   "source": []
  },
  {
   "cell_type": "code",
   "execution_count": null,
   "metadata": {
    "collapsed": true
   },
   "outputs": [],
   "source": []
  }
 ],
 "metadata": {
  "kernelspec": {
   "display_name": "Python 3",
   "language": "python",
   "name": "python3"
  },
  "language_info": {
   "codemirror_mode": {
    "name": "ipython",
    "version": 3
   },
   "file_extension": ".py",
   "mimetype": "text/x-python",
   "name": "python",
   "nbconvert_exporter": "python",
   "pygments_lexer": "ipython3",
   "version": "3.6.2"
  }
 },
 "nbformat": 4,
 "nbformat_minor": 2
}
