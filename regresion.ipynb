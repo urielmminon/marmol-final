{
 "cells": [
  {
   "cell_type": "code",
   "execution_count": 1,
   "metadata": {
    "collapsed": true
   },
   "outputs": [],
   "source": [
    "import feather\n",
    "import numpy as np\n",
    "import pandas as pd\n",
    "import pickle\n",
    "from sklearn.model_selection import train_test_split"
   ]
  },
  {
   "cell_type": "code",
   "execution_count": 2,
   "metadata": {
    "collapsed": true
   },
   "outputs": [],
   "source": [
    "walmart_df = feather.read_dataframe('Datos/walmart.feather')\n",
    "nrow=walmart_df['TripType'].count()\n",
    "walmart_df_Y=walmart_df['TripType']\n",
    "walmart_df=walmart_df.drop(['VisitNumber', 'TripType'], axis=1)"
   ]
  },
  {
   "cell_type": "code",
   "execution_count": 3,
   "metadata": {},
   "outputs": [
    {
     "name": "stdout",
     "output_type": "stream",
     "text": [
      "      Weekday  1-HR PHOTO  ACCESSORIES  AUTOMOTIVE  BAKERY  BATH AND SHOWER  \\\n",
      "0      Friday         0.0          0.0         0.0     0.0              0.0   \n",
      "1      Friday         0.0          0.0         0.0     0.0              0.0   \n",
      "2      Friday         0.0          0.0         0.0     0.0              0.0   \n",
      "3      Friday         0.0          0.0         0.0     0.0              0.0   \n",
      "4      Friday         0.0          0.0         0.0     0.0              0.0   \n",
      "5      Friday         0.0          0.0         0.0     0.0              0.0   \n",
      "6      Friday         0.0          0.0         0.0     0.0              0.0   \n",
      "7      Friday         0.0          0.0         0.0     0.0              0.0   \n",
      "8      Friday         0.0          0.0         0.0     0.0              0.0   \n",
      "9      Friday         0.0          0.0         0.0     0.0              0.0   \n",
      "10     Friday         0.0          0.0         0.0     0.0              0.0   \n",
      "11     Friday         0.0          0.0         0.0     0.0              0.0   \n",
      "12     Friday         0.0          0.0         0.0     0.0              0.0   \n",
      "13     Friday         0.0          0.0         0.0     0.0              0.0   \n",
      "14     Friday         0.0          0.0         0.0     0.0              0.0   \n",
      "15     Friday         0.0          0.0         0.0     0.0              0.0   \n",
      "16     Friday         0.0          0.0         0.0     0.0              0.0   \n",
      "17     Friday         0.0          0.0         0.0     0.0              0.0   \n",
      "18     Friday         0.0          0.0         0.0     0.0              0.0   \n",
      "19     Friday         0.0          0.0         0.0     0.0              0.0   \n",
      "20     Friday         0.0          0.0         0.0     0.0              0.0   \n",
      "21     Friday         0.0          0.0         0.0     0.0              0.0   \n",
      "22     Friday         0.0          0.0         0.0     0.0              0.0   \n",
      "23     Friday         0.0          0.0         0.0     0.0              0.0   \n",
      "24     Friday         0.0          0.0         0.0     0.0              0.0   \n",
      "25     Friday         0.0          0.0         0.0     0.0              0.0   \n",
      "26     Friday         0.0          0.0         0.0     0.0              0.0   \n",
      "27     Friday         0.0          0.0         0.0     0.0              0.0   \n",
      "28     Friday         0.0          0.0         0.0     0.0              0.0   \n",
      "29     Friday         0.0          0.0         0.0     0.0              0.0   \n",
      "...       ...         ...          ...         ...     ...              ...   \n",
      "95644  Sunday         0.0          0.0         0.0     0.0              0.0   \n",
      "95645  Sunday         0.0          0.0         0.0     0.0              0.0   \n",
      "95646  Sunday         0.0          0.0         0.0     0.0              0.0   \n",
      "95647  Sunday         0.0          0.0         0.0     0.0              0.0   \n",
      "95648  Sunday         0.0          0.0         0.0     0.0              0.0   \n",
      "95649  Sunday         0.0          0.0         0.0     0.0              0.0   \n",
      "95650  Sunday         0.0          0.0         0.0     0.0              0.0   \n",
      "95651  Sunday         0.0          0.0         0.0     0.0              0.0   \n",
      "95652  Sunday         0.0          0.0         0.0     0.0              0.0   \n",
      "95653  Sunday         0.0          0.0         0.0     0.0              0.0   \n",
      "95654  Sunday         0.0          0.0         0.0     0.0              0.0   \n",
      "95655  Sunday         0.0          0.0         0.0     0.0              0.0   \n",
      "95656  Sunday         0.0          0.0         0.0     0.0              0.0   \n",
      "95657  Sunday         0.0          0.0         0.0     0.0              0.0   \n",
      "95658  Sunday         0.0          0.0         0.0     0.0              0.0   \n",
      "95659  Sunday         0.0          0.0         0.0     0.0              0.0   \n",
      "95660  Sunday         0.0          0.0         0.0     0.0              0.0   \n",
      "95661  Sunday         0.0          0.0         0.0     0.0              0.0   \n",
      "95662  Sunday         0.0          0.0         0.0     0.0              0.0   \n",
      "95663  Sunday         0.0          0.0         0.0     0.0              0.0   \n",
      "95664  Sunday         0.0          0.0         0.0     0.0              0.0   \n",
      "95665  Sunday         0.0          0.0         0.0     0.0              0.0   \n",
      "95666  Sunday         0.0          0.0         0.0     0.0              0.0   \n",
      "95667  Sunday         0.0          0.0         0.0     0.0              0.0   \n",
      "95668  Sunday         0.0          0.0         0.0     0.0              0.0   \n",
      "95669  Sunday         0.0          0.0         0.0     0.0              0.0   \n",
      "95670  Sunday         0.0          0.0         0.0     0.0              0.0   \n",
      "95671  Sunday         0.0          0.0         0.0     0.0              0.0   \n",
      "95672  Sunday         0.0          0.0         0.0     0.0              0.0   \n",
      "95673  Sunday         0.0          0.0         0.0     0.0              0.0   \n",
      "\n",
      "       BEAUTY  BEDDING  BOOKS AND MAGAZINES  BOYS WEAR    ...     SEAFOOD  \\\n",
      "0         0.0      0.0                  0.0        0.0    ...         0.0   \n",
      "1         0.0      0.0                  0.0        0.0    ...         0.0   \n",
      "2         0.0      0.0                  0.0        0.0    ...         0.0   \n",
      "3         0.0      0.0                  0.0        0.0    ...         0.0   \n",
      "4         0.0      0.0                  0.0        0.0    ...         0.0   \n",
      "5         0.0      0.0                  0.0        0.0    ...         0.0   \n",
      "6         0.0      0.0                  0.0        0.0    ...         0.0   \n",
      "7         0.0      0.0                  0.0        0.0    ...         0.0   \n",
      "8         0.0      0.0                  0.0        0.0    ...         0.0   \n",
      "9         0.0      0.0                  0.0        0.0    ...         0.0   \n",
      "10        0.0      0.0                  0.0        0.0    ...         0.0   \n",
      "11        0.0      0.0                  0.0        0.0    ...         0.0   \n",
      "12        0.0      0.0                  0.0        0.0    ...         0.0   \n",
      "13        0.0      0.0                  0.0        0.0    ...         0.0   \n",
      "14        0.0      0.0                  0.0        0.0    ...         0.0   \n",
      "15        0.0      0.0                  0.0        0.0    ...         0.0   \n",
      "16        0.0      0.0                  0.0        0.0    ...         0.0   \n",
      "17        0.0      0.0                  0.0        0.0    ...         0.0   \n",
      "18        0.0      0.0                  0.0        0.0    ...         0.0   \n",
      "19        0.0      0.0                  0.0        0.0    ...         0.0   \n",
      "20        0.0      0.0                  0.0        0.0    ...         0.0   \n",
      "21        0.0      0.0                  0.0        0.0    ...         0.0   \n",
      "22        0.0      0.0                  0.0        0.0    ...         0.0   \n",
      "23        0.0      0.0                  0.0        0.0    ...         0.0   \n",
      "24        0.0      0.0                  0.0        0.0    ...         0.0   \n",
      "25        0.0      0.0                  0.0        0.0    ...         0.0   \n",
      "26        0.0      0.0                  0.0        0.0    ...         0.0   \n",
      "27        0.0      0.0                  0.0        0.0    ...         0.0   \n",
      "28        0.0      0.0                  0.0        0.0    ...         0.0   \n",
      "29        0.0      0.0                  0.0        0.0    ...         0.0   \n",
      "...       ...      ...                  ...        ...    ...         ...   \n",
      "95644     0.0      0.0                  0.0        0.0    ...         0.0   \n",
      "95645     0.0      0.0                  0.0        0.0    ...         0.0   \n",
      "95646     0.0      0.0                  0.0        0.0    ...         0.0   \n",
      "95647     0.0      0.0                  0.0        0.0    ...         0.0   \n",
      "95648     0.0      0.0                  0.0        0.0    ...         0.0   \n",
      "95649     0.0      0.0                  0.0        0.0    ...         0.0   \n",
      "95650     0.0      0.0                  0.0        0.0    ...         0.0   \n",
      "95651     0.0      0.0                  0.0        0.0    ...         0.0   \n",
      "95652     0.0      0.0                  0.0        0.0    ...         0.0   \n",
      "95653     0.0      0.0                  0.0        0.0    ...         0.0   \n",
      "95654     0.0      0.0                  0.0        0.0    ...         0.0   \n",
      "95655     0.0      0.0                  0.0        0.0    ...         0.0   \n",
      "95656     0.0      0.0                  0.0        0.0    ...         0.0   \n",
      "95657     0.0      0.0                  0.0        0.0    ...         0.0   \n",
      "95658     0.0      0.0                  0.0        0.0    ...         0.0   \n",
      "95659     0.0      0.0                  0.0        0.0    ...         0.0   \n",
      "95660     0.0      0.0                  0.0        0.0    ...         0.0   \n",
      "95661     0.0      0.0                  0.0        0.0    ...         0.0   \n",
      "95662     0.0      0.0                  0.0        0.0    ...         0.0   \n",
      "95663     0.0      0.0                  0.0        0.0    ...         0.0   \n",
      "95664     0.0      0.0                  0.0        0.0    ...         0.0   \n",
      "95665     0.0      0.0                  0.0        0.0    ...         0.0   \n",
      "95666     0.0      0.0                  0.0        0.0    ...         0.0   \n",
      "95667     0.0      0.0                  1.0        0.0    ...         0.0   \n",
      "95668     0.0      0.0                  0.0        0.0    ...         0.0   \n",
      "95669     0.0      0.0                  0.0        0.0    ...         0.0   \n",
      "95670     0.0      0.0                  0.0        0.0    ...         0.0   \n",
      "95671     0.0      0.0                  0.0        0.0    ...         0.0   \n",
      "95672     0.0      0.0                  0.0        0.0    ...         0.0   \n",
      "95673     0.0      0.0                  0.0        0.0    ...         0.0   \n",
      "\n",
      "       SEASONAL  SERVICE DELI  SHEER HOSIERY  SHOES  SLEEPWEAR/FOUNDATIONS  \\\n",
      "0           0.0           0.0            0.0    0.0                    0.0   \n",
      "1           0.0           0.0            0.0    0.0                    0.0   \n",
      "2           0.0           0.0            0.0    0.0                    0.0   \n",
      "3           0.0           0.0            0.0    0.0                    0.0   \n",
      "4           0.0           0.0            0.0    0.0                    0.0   \n",
      "5           0.0           0.0            0.0    0.0                    0.0   \n",
      "6           0.0           0.0            0.0    0.0                    0.0   \n",
      "7           0.0           0.0            0.0    0.0                    0.0   \n",
      "8           0.0           0.0            0.0    0.0                    0.0   \n",
      "9           0.0           0.0            0.0    0.0                    0.0   \n",
      "10          0.0           0.0            0.0    0.0                    0.0   \n",
      "11          0.0           0.0            0.0    0.0                    0.0   \n",
      "12          0.0           0.0            0.0    0.0                    0.0   \n",
      "13          0.0           0.0            0.0    0.0                    0.0   \n",
      "14          0.0           0.0            0.0    0.0                    0.0   \n",
      "15          0.0           0.0            0.0    0.0                    0.0   \n",
      "16          0.0           0.0            0.0    0.0                    0.0   \n",
      "17          0.0           0.0            0.0    0.0                    0.0   \n",
      "18          0.0           0.0            0.0    0.0                    0.0   \n",
      "19          0.0           0.0            0.0    0.0                    0.0   \n",
      "20          0.0           0.0            0.0    0.0                    0.0   \n",
      "21          0.0           0.0            0.0    0.0                    0.0   \n",
      "22          0.0           0.0            0.0    0.0                    0.0   \n",
      "23          0.0           0.0            0.0    0.0                    0.0   \n",
      "24          0.0           0.0            0.0    0.0                    0.0   \n",
      "25          0.0           0.0            0.0    0.0                    0.0   \n",
      "26          0.0           0.0            0.0    0.0                    0.0   \n",
      "27          0.0           0.0            0.0    0.0                    0.0   \n",
      "28          0.0           0.0            0.0    0.0                    0.0   \n",
      "29          0.0           0.0            0.0    0.0                    0.0   \n",
      "...         ...           ...            ...    ...                    ...   \n",
      "95644       0.0           0.0            0.0    0.0                    0.0   \n",
      "95645       0.0           0.0            0.0    0.0                    0.0   \n",
      "95646       0.0           0.0            0.0    0.0                    0.0   \n",
      "95647       0.0           0.0            0.0    0.0                    0.0   \n",
      "95648       0.0           0.0            0.0    0.0                    0.0   \n",
      "95649       0.0           0.0            0.0    0.0                    0.0   \n",
      "95650       0.0           0.0            0.0    0.0                    0.0   \n",
      "95651       0.0           0.0            0.0    0.0                    0.0   \n",
      "95652       0.0           0.0            0.0    0.0                    0.0   \n",
      "95653       0.0           0.0            0.0    0.0                    0.0   \n",
      "95654       0.0           0.0            0.0    0.0                    0.0   \n",
      "95655       0.0           0.0            0.0    0.0                    0.0   \n",
      "95656       0.0           0.0            0.0    0.0                    0.0   \n",
      "95657       0.0           0.0            0.0    0.0                    0.0   \n",
      "95658       0.0           0.0            0.0    0.0                   -2.0   \n",
      "95659       0.0           0.0            0.0   -1.0                    0.0   \n",
      "95660       0.0           0.0            0.0    0.0                    0.0   \n",
      "95661       0.0           0.0            0.0    0.0                    0.0   \n",
      "95662       0.0           0.0            0.0    0.0                    0.0   \n",
      "95663       0.0           0.0            0.0    0.0                    0.0   \n",
      "95664       0.0           0.0            0.0    0.0                    0.0   \n",
      "95665       0.0           0.0            0.0    0.0                    0.0   \n",
      "95666       0.0           0.0            0.0    0.0                    0.0   \n",
      "95667       0.0           0.0            0.0    0.0                    0.0   \n",
      "95668       0.0           0.0            0.0    0.0                    0.0   \n",
      "95669       0.0           0.0            0.0    0.0                    0.0   \n",
      "95670       0.0           0.0            0.0    0.0                    0.0   \n",
      "95671       0.0           0.0            0.0    0.0                    0.0   \n",
      "95672       0.0           0.0            0.0    0.0                    0.0   \n",
      "95673       0.0           0.0            0.0    0.0                    0.0   \n",
      "\n",
      "       SPORTING GOODS  SWIMWEAR/OUTERWEAR  TOYS  WIRELESS  \n",
      "0                 0.0                 0.0   0.0       0.0  \n",
      "1                 0.0                 0.0   0.0       0.0  \n",
      "2                 0.0                 0.0   0.0       0.0  \n",
      "3                 0.0                 0.0   0.0       0.0  \n",
      "4                 0.0                 0.0   0.0       0.0  \n",
      "5                 0.0                 0.0   0.0       0.0  \n",
      "6                 0.0                 0.0   0.0       0.0  \n",
      "7                 0.0                 0.0   0.0       0.0  \n",
      "8                 0.0                 0.0   0.0       0.0  \n",
      "9                 0.0                 0.0   0.0       0.0  \n",
      "10                0.0                 0.0   0.0       0.0  \n",
      "11                0.0                 0.0   0.0       0.0  \n",
      "12                0.0                 0.0   0.0       0.0  \n",
      "13                0.0                 0.0   0.0       0.0  \n",
      "14                0.0                 0.0   0.0       0.0  \n",
      "15                0.0                 0.0   0.0       0.0  \n",
      "16                0.0                 0.0   0.0       0.0  \n",
      "17                0.0                 0.0   0.0       0.0  \n",
      "18                0.0                 0.0   0.0       0.0  \n",
      "19                0.0                 0.0   0.0       0.0  \n",
      "20                0.0                 0.0   0.0       0.0  \n",
      "21                0.0                 0.0   0.0       0.0  \n",
      "22                0.0                 0.0   0.0       0.0  \n",
      "23                0.0                 0.0   0.0       0.0  \n",
      "24                0.0                 0.0   0.0       0.0  \n",
      "25                0.0                 0.0   0.0       0.0  \n",
      "26                0.0                 0.0   0.0       0.0  \n",
      "27                0.0                 0.0   0.0       0.0  \n",
      "28                0.0                 0.0   0.0       0.0  \n",
      "29                0.0                 0.0   0.0       0.0  \n",
      "...               ...                 ...   ...       ...  \n",
      "95644             0.0                 0.0   0.0       0.0  \n",
      "95645             0.0                 0.0   0.0       0.0  \n",
      "95646             0.0                 0.0   0.0       0.0  \n",
      "95647             0.0                 0.0   0.0       0.0  \n",
      "95648             0.0                 0.0   0.0       0.0  \n",
      "95649             0.0                 0.0   0.0       0.0  \n",
      "95650             0.0                 0.0   0.0       0.0  \n",
      "95651             0.0                 0.0   0.0       0.0  \n",
      "95652             0.0                 0.0   0.0       0.0  \n",
      "95653             0.0                 0.0   0.0       0.0  \n",
      "95654             0.0                 0.0   0.0       0.0  \n",
      "95655             0.0                 0.0   0.0       0.0  \n",
      "95656             0.0                 0.0   0.0       0.0  \n",
      "95657             0.0                 0.0   0.0       0.0  \n",
      "95658             0.0                 0.0   0.0       0.0  \n",
      "95659             0.0                 0.0   0.0       0.0  \n",
      "95660             0.0                 0.0   0.0       0.0  \n",
      "95661             0.0                 0.0   0.0       0.0  \n",
      "95662             0.0                 0.0  -1.0       0.0  \n",
      "95663             0.0                 0.0   0.0       0.0  \n",
      "95664             0.0                 0.0   0.0       0.0  \n",
      "95665             0.0                 0.0   0.0       0.0  \n",
      "95666             0.0                 0.0   0.0       0.0  \n",
      "95667             0.0                 0.0   0.0       0.0  \n",
      "95668             0.0                 0.0   0.0       0.0  \n",
      "95669             0.0                 0.0   0.0       0.0  \n",
      "95670             0.0                 0.0   0.0       0.0  \n",
      "95671             0.0                 0.0   0.0       0.0  \n",
      "95672             0.0                 0.0   0.0       0.0  \n",
      "95673             0.0                 0.0   0.0       0.0  \n",
      "\n",
      "[95674 rows x 69 columns]\n"
     ]
    }
   ],
   "source": [
    "print(walmart_df)"
   ]
  },
  {
   "cell_type": "code",
   "execution_count": 4,
   "metadata": {
    "collapsed": true
   },
   "outputs": [],
   "source": [
    "df_Weekday = pd.get_dummies(walmart_df['Weekday'])\n",
    "walmart_df = pd.concat([walmart_df, df_Weekday], axis=1)\n",
    "walmart_df = walmart_df.drop('Weekday', axis=1)"
   ]
  },
  {
   "cell_type": "code",
   "execution_count": 5,
   "metadata": {
    "collapsed": true
   },
   "outputs": [],
   "source": [
    "X_train, X_test, y_train, y_test = train_test_split(walmart_df, walmart_df_Y, random_state=0, stratify=walmart_df_Y)"
   ]
  },
  {
   "cell_type": "code",
   "execution_count": 6,
   "metadata": {
    "collapsed": true
   },
   "outputs": [],
   "source": [
    "from sklearn import linear_model, datasets\n",
    "from sklearn.model_selection import GridSearchCV"
   ]
  },
  {
   "cell_type": "code",
   "execution_count": 7,
   "metadata": {
    "collapsed": true
   },
   "outputs": [],
   "source": [
    "regresion = linear_model.LogisticRegression()"
   ]
  },
  {
   "cell_type": "code",
   "execution_count": 8,
   "metadata": {
    "collapsed": true
   },
   "outputs": [],
   "source": [
    "# Create regularization penalty space\n",
    "penalty = ['l1', 'l2']\n",
    "\n",
    "# Create regularization hyperparameter space\n",
    "C = np.logspace(0, 4, 10)\n",
    "\n",
    "# Create hyperparameter options\n",
    "hyperparameters = dict(C=C, penalty=penalty)"
   ]
  },
  {
   "cell_type": "code",
   "execution_count": 11,
   "metadata": {
    "collapsed": true
   },
   "outputs": [],
   "source": [
    "clf = GridSearchCV(regresion, hyperparameters, cv=3, verbose=3, scoring='log_loss')"
   ]
  },
  {
   "cell_type": "code",
   "execution_count": 12,
   "metadata": {},
   "outputs": [
    {
     "name": "stdout",
     "output_type": "stream",
     "text": [
      "Fitting 3 folds for each of 20 candidates, totalling 60 fits\n",
      "[CV] C=1.0, penalty=l1 ...............................................\n"
     ]
    },
    {
     "name": "stderr",
     "output_type": "stream",
     "text": [
      "/anaconda/envs/mineria/lib/python3.6/site-packages/sklearn/metrics/scorer.py:137: DeprecationWarning: Scoring method log_loss was renamed to neg_log_loss in version 0.18 and will be removed in 0.20.\n",
      "  sample_weight=sample_weight)\n",
      "/anaconda/envs/mineria/lib/python3.6/site-packages/sklearn/metrics/scorer.py:137: DeprecationWarning: Scoring method log_loss was renamed to neg_log_loss in version 0.18 and will be removed in 0.20.\n",
      "  sample_weight=sample_weight)\n"
     ]
    },
    {
     "name": "stdout",
     "output_type": "stream",
     "text": [
      "[CV] ..... C=1.0, penalty=l1, score=-1.4922975753984677, total=  20.4s\n",
      "[CV] C=1.0, penalty=l1 ...............................................\n"
     ]
    },
    {
     "name": "stderr",
     "output_type": "stream",
     "text": [
      "[Parallel(n_jobs=1)]: Done   1 out of   1 | elapsed:   20.6s remaining:    0.0s\n",
      "/anaconda/envs/mineria/lib/python3.6/site-packages/sklearn/metrics/scorer.py:137: DeprecationWarning: Scoring method log_loss was renamed to neg_log_loss in version 0.18 and will be removed in 0.20.\n",
      "  sample_weight=sample_weight)\n",
      "/anaconda/envs/mineria/lib/python3.6/site-packages/sklearn/metrics/scorer.py:137: DeprecationWarning: Scoring method log_loss was renamed to neg_log_loss in version 0.18 and will be removed in 0.20.\n",
      "  sample_weight=sample_weight)\n"
     ]
    },
    {
     "name": "stdout",
     "output_type": "stream",
     "text": [
      "[CV] ..... C=1.0, penalty=l1, score=-1.4903689465722652, total=  20.2s\n",
      "[CV] C=1.0, penalty=l1 ...............................................\n"
     ]
    },
    {
     "name": "stderr",
     "output_type": "stream",
     "text": [
      "[Parallel(n_jobs=1)]: Done   2 out of   2 | elapsed:   41.1s remaining:    0.0s\n",
      "/anaconda/envs/mineria/lib/python3.6/site-packages/sklearn/metrics/scorer.py:137: DeprecationWarning: Scoring method log_loss was renamed to neg_log_loss in version 0.18 and will be removed in 0.20.\n",
      "  sample_weight=sample_weight)\n",
      "/anaconda/envs/mineria/lib/python3.6/site-packages/sklearn/metrics/scorer.py:137: DeprecationWarning: Scoring method log_loss was renamed to neg_log_loss in version 0.18 and will be removed in 0.20.\n",
      "  sample_weight=sample_weight)\n"
     ]
    },
    {
     "name": "stdout",
     "output_type": "stream",
     "text": [
      "[CV] ...... C=1.0, penalty=l1, score=-1.490544148275873, total=  23.5s\n",
      "[CV] C=1.0, penalty=l2 ...............................................\n"
     ]
    },
    {
     "name": "stderr",
     "output_type": "stream",
     "text": [
      "/anaconda/envs/mineria/lib/python3.6/site-packages/sklearn/metrics/scorer.py:137: DeprecationWarning: Scoring method log_loss was renamed to neg_log_loss in version 0.18 and will be removed in 0.20.\n",
      "  sample_weight=sample_weight)\n",
      "/anaconda/envs/mineria/lib/python3.6/site-packages/sklearn/metrics/scorer.py:137: DeprecationWarning: Scoring method log_loss was renamed to neg_log_loss in version 0.18 and will be removed in 0.20.\n",
      "  sample_weight=sample_weight)\n"
     ]
    },
    {
     "name": "stdout",
     "output_type": "stream",
     "text": [
      "[CV] ..... C=1.0, penalty=l2, score=-1.4917920057777632, total=  13.9s\n",
      "[CV] C=1.0, penalty=l2 ...............................................\n"
     ]
    },
    {
     "name": "stderr",
     "output_type": "stream",
     "text": [
      "/anaconda/envs/mineria/lib/python3.6/site-packages/sklearn/metrics/scorer.py:137: DeprecationWarning: Scoring method log_loss was renamed to neg_log_loss in version 0.18 and will be removed in 0.20.\n",
      "  sample_weight=sample_weight)\n",
      "/anaconda/envs/mineria/lib/python3.6/site-packages/sklearn/metrics/scorer.py:137: DeprecationWarning: Scoring method log_loss was renamed to neg_log_loss in version 0.18 and will be removed in 0.20.\n",
      "  sample_weight=sample_weight)\n"
     ]
    },
    {
     "name": "stdout",
     "output_type": "stream",
     "text": [
      "[CV] ...... C=1.0, penalty=l2, score=-1.489103908061561, total=  13.5s\n",
      "[CV] C=1.0, penalty=l2 ...............................................\n"
     ]
    },
    {
     "name": "stderr",
     "output_type": "stream",
     "text": [
      "/anaconda/envs/mineria/lib/python3.6/site-packages/sklearn/metrics/scorer.py:137: DeprecationWarning: Scoring method log_loss was renamed to neg_log_loss in version 0.18 and will be removed in 0.20.\n",
      "  sample_weight=sample_weight)\n",
      "/anaconda/envs/mineria/lib/python3.6/site-packages/sklearn/metrics/scorer.py:137: DeprecationWarning: Scoring method log_loss was renamed to neg_log_loss in version 0.18 and will be removed in 0.20.\n",
      "  sample_weight=sample_weight)\n"
     ]
    },
    {
     "name": "stdout",
     "output_type": "stream",
     "text": [
      "[CV] ..... C=1.0, penalty=l2, score=-1.4901731017237207, total=  13.7s\n",
      "[CV] C=2.7825594022071245, penalty=l1 ................................\n"
     ]
    },
    {
     "name": "stderr",
     "output_type": "stream",
     "text": [
      "/anaconda/envs/mineria/lib/python3.6/site-packages/sklearn/metrics/scorer.py:137: DeprecationWarning: Scoring method log_loss was renamed to neg_log_loss in version 0.18 and will be removed in 0.20.\n",
      "  sample_weight=sample_weight)\n",
      "/anaconda/envs/mineria/lib/python3.6/site-packages/sklearn/metrics/scorer.py:137: DeprecationWarning: Scoring method log_loss was renamed to neg_log_loss in version 0.18 and will be removed in 0.20.\n",
      "  sample_weight=sample_weight)\n"
     ]
    },
    {
     "name": "stdout",
     "output_type": "stream",
     "text": [
      "[CV]  C=2.7825594022071245, penalty=l1, score=-1.4888811689565404, total=  47.7s\n",
      "[CV] C=2.7825594022071245, penalty=l1 ................................\n"
     ]
    },
    {
     "name": "stderr",
     "output_type": "stream",
     "text": [
      "/anaconda/envs/mineria/lib/python3.6/site-packages/sklearn/metrics/scorer.py:137: DeprecationWarning: Scoring method log_loss was renamed to neg_log_loss in version 0.18 and will be removed in 0.20.\n",
      "  sample_weight=sample_weight)\n",
      "/anaconda/envs/mineria/lib/python3.6/site-packages/sklearn/metrics/scorer.py:137: DeprecationWarning: Scoring method log_loss was renamed to neg_log_loss in version 0.18 and will be removed in 0.20.\n",
      "  sample_weight=sample_weight)\n"
     ]
    },
    {
     "name": "stdout",
     "output_type": "stream",
     "text": [
      "[CV]  C=2.7825594022071245, penalty=l1, score=-1.4881008591533977, total=  46.9s\n",
      "[CV] C=2.7825594022071245, penalty=l1 ................................\n"
     ]
    },
    {
     "name": "stderr",
     "output_type": "stream",
     "text": [
      "/anaconda/envs/mineria/lib/python3.6/site-packages/sklearn/metrics/scorer.py:137: DeprecationWarning: Scoring method log_loss was renamed to neg_log_loss in version 0.18 and will be removed in 0.20.\n",
      "  sample_weight=sample_weight)\n",
      "/anaconda/envs/mineria/lib/python3.6/site-packages/sklearn/metrics/scorer.py:137: DeprecationWarning: Scoring method log_loss was renamed to neg_log_loss in version 0.18 and will be removed in 0.20.\n",
      "  sample_weight=sample_weight)\n"
     ]
    },
    {
     "name": "stdout",
     "output_type": "stream",
     "text": [
      "[CV]  C=2.7825594022071245, penalty=l1, score=-1.4877303947471927, total=  49.5s\n",
      "[CV] C=2.7825594022071245, penalty=l2 ................................\n"
     ]
    },
    {
     "name": "stderr",
     "output_type": "stream",
     "text": [
      "/anaconda/envs/mineria/lib/python3.6/site-packages/sklearn/metrics/scorer.py:137: DeprecationWarning: Scoring method log_loss was renamed to neg_log_loss in version 0.18 and will be removed in 0.20.\n",
      "  sample_weight=sample_weight)\n",
      "/anaconda/envs/mineria/lib/python3.6/site-packages/sklearn/metrics/scorer.py:137: DeprecationWarning: Scoring method log_loss was renamed to neg_log_loss in version 0.18 and will be removed in 0.20.\n",
      "  sample_weight=sample_weight)\n"
     ]
    },
    {
     "name": "stdout",
     "output_type": "stream",
     "text": [
      "[CV]  C=2.7825594022071245, penalty=l2, score=-1.488836068582156, total=  16.3s\n",
      "[CV] C=2.7825594022071245, penalty=l2 ................................\n"
     ]
    },
    {
     "name": "stderr",
     "output_type": "stream",
     "text": [
      "/anaconda/envs/mineria/lib/python3.6/site-packages/sklearn/metrics/scorer.py:137: DeprecationWarning: Scoring method log_loss was renamed to neg_log_loss in version 0.18 and will be removed in 0.20.\n",
      "  sample_weight=sample_weight)\n",
      "/anaconda/envs/mineria/lib/python3.6/site-packages/sklearn/metrics/scorer.py:137: DeprecationWarning: Scoring method log_loss was renamed to neg_log_loss in version 0.18 and will be removed in 0.20.\n",
      "  sample_weight=sample_weight)\n"
     ]
    },
    {
     "name": "stdout",
     "output_type": "stream",
     "text": [
      "[CV]  C=2.7825594022071245, penalty=l2, score=-1.4868687778495888, total=  16.6s\n",
      "[CV] C=2.7825594022071245, penalty=l2 ................................\n"
     ]
    },
    {
     "name": "stderr",
     "output_type": "stream",
     "text": [
      "/anaconda/envs/mineria/lib/python3.6/site-packages/sklearn/metrics/scorer.py:137: DeprecationWarning: Scoring method log_loss was renamed to neg_log_loss in version 0.18 and will be removed in 0.20.\n",
      "  sample_weight=sample_weight)\n",
      "/anaconda/envs/mineria/lib/python3.6/site-packages/sklearn/metrics/scorer.py:137: DeprecationWarning: Scoring method log_loss was renamed to neg_log_loss in version 0.18 and will be removed in 0.20.\n",
      "  sample_weight=sample_weight)\n"
     ]
    },
    {
     "name": "stdout",
     "output_type": "stream",
     "text": [
      "[CV]  C=2.7825594022071245, penalty=l2, score=-1.4874778568274034, total=  16.5s\n",
      "[CV] C=7.742636826811269, penalty=l1 .................................\n"
     ]
    },
    {
     "name": "stderr",
     "output_type": "stream",
     "text": [
      "/anaconda/envs/mineria/lib/python3.6/site-packages/sklearn/metrics/scorer.py:137: DeprecationWarning: Scoring method log_loss was renamed to neg_log_loss in version 0.18 and will be removed in 0.20.\n",
      "  sample_weight=sample_weight)\n",
      "/anaconda/envs/mineria/lib/python3.6/site-packages/sklearn/metrics/scorer.py:137: DeprecationWarning: Scoring method log_loss was renamed to neg_log_loss in version 0.18 and will be removed in 0.20.\n",
      "  sample_weight=sample_weight)\n"
     ]
    },
    {
     "name": "stdout",
     "output_type": "stream",
     "text": [
      "[CV]  C=7.742636826811269, penalty=l1, score=-1.4878993444221231, total= 1.6min\n",
      "[CV] C=7.742636826811269, penalty=l1 .................................\n"
     ]
    },
    {
     "name": "stderr",
     "output_type": "stream",
     "text": [
      "/anaconda/envs/mineria/lib/python3.6/site-packages/sklearn/metrics/scorer.py:137: DeprecationWarning: Scoring method log_loss was renamed to neg_log_loss in version 0.18 and will be removed in 0.20.\n",
      "  sample_weight=sample_weight)\n",
      "/anaconda/envs/mineria/lib/python3.6/site-packages/sklearn/metrics/scorer.py:137: DeprecationWarning: Scoring method log_loss was renamed to neg_log_loss in version 0.18 and will be removed in 0.20.\n",
      "  sample_weight=sample_weight)\n"
     ]
    },
    {
     "name": "stdout",
     "output_type": "stream",
     "text": [
      "[CV]  C=7.742636826811269, penalty=l1, score=-1.4879628952816053, total= 1.8min\n",
      "[CV] C=7.742636826811269, penalty=l1 .................................\n"
     ]
    },
    {
     "name": "stderr",
     "output_type": "stream",
     "text": [
      "/anaconda/envs/mineria/lib/python3.6/site-packages/sklearn/metrics/scorer.py:137: DeprecationWarning: Scoring method log_loss was renamed to neg_log_loss in version 0.18 and will be removed in 0.20.\n",
      "  sample_weight=sample_weight)\n",
      "/anaconda/envs/mineria/lib/python3.6/site-packages/sklearn/metrics/scorer.py:137: DeprecationWarning: Scoring method log_loss was renamed to neg_log_loss in version 0.18 and will be removed in 0.20.\n",
      "  sample_weight=sample_weight)\n"
     ]
    },
    {
     "name": "stdout",
     "output_type": "stream",
     "text": [
      "[CV]  C=7.742636826811269, penalty=l1, score=-1.4872094339675355, total= 1.8min\n",
      "[CV] C=7.742636826811269, penalty=l2 .................................\n"
     ]
    },
    {
     "name": "stderr",
     "output_type": "stream",
     "text": [
      "/anaconda/envs/mineria/lib/python3.6/site-packages/sklearn/metrics/scorer.py:137: DeprecationWarning: Scoring method log_loss was renamed to neg_log_loss in version 0.18 and will be removed in 0.20.\n",
      "  sample_weight=sample_weight)\n",
      "/anaconda/envs/mineria/lib/python3.6/site-packages/sklearn/metrics/scorer.py:137: DeprecationWarning: Scoring method log_loss was renamed to neg_log_loss in version 0.18 and will be removed in 0.20.\n",
      "  sample_weight=sample_weight)\n"
     ]
    },
    {
     "name": "stdout",
     "output_type": "stream",
     "text": [
      "[CV]  C=7.742636826811269, penalty=l2, score=-1.4878162717851602, total=  19.7s\n",
      "[CV] C=7.742636826811269, penalty=l2 .................................\n"
     ]
    },
    {
     "name": "stderr",
     "output_type": "stream",
     "text": [
      "/anaconda/envs/mineria/lib/python3.6/site-packages/sklearn/metrics/scorer.py:137: DeprecationWarning: Scoring method log_loss was renamed to neg_log_loss in version 0.18 and will be removed in 0.20.\n",
      "  sample_weight=sample_weight)\n",
      "/anaconda/envs/mineria/lib/python3.6/site-packages/sklearn/metrics/scorer.py:137: DeprecationWarning: Scoring method log_loss was renamed to neg_log_loss in version 0.18 and will be removed in 0.20.\n",
      "  sample_weight=sample_weight)\n"
     ]
    },
    {
     "name": "stdout",
     "output_type": "stream",
     "text": [
      "[CV]  C=7.742636826811269, penalty=l2, score=-1.4866327167522864, total=  19.6s\n",
      "[CV] C=7.742636826811269, penalty=l2 .................................\n"
     ]
    },
    {
     "name": "stderr",
     "output_type": "stream",
     "text": [
      "/anaconda/envs/mineria/lib/python3.6/site-packages/sklearn/metrics/scorer.py:137: DeprecationWarning: Scoring method log_loss was renamed to neg_log_loss in version 0.18 and will be removed in 0.20.\n",
      "  sample_weight=sample_weight)\n",
      "/anaconda/envs/mineria/lib/python3.6/site-packages/sklearn/metrics/scorer.py:137: DeprecationWarning: Scoring method log_loss was renamed to neg_log_loss in version 0.18 and will be removed in 0.20.\n",
      "  sample_weight=sample_weight)\n"
     ]
    },
    {
     "name": "stdout",
     "output_type": "stream",
     "text": [
      "[CV]  C=7.742636826811269, penalty=l2, score=-1.4868308080670731, total=  20.7s\n",
      "[CV] C=21.544346900318832, penalty=l1 ................................\n"
     ]
    },
    {
     "name": "stderr",
     "output_type": "stream",
     "text": [
      "/anaconda/envs/mineria/lib/python3.6/site-packages/sklearn/metrics/scorer.py:137: DeprecationWarning: Scoring method log_loss was renamed to neg_log_loss in version 0.18 and will be removed in 0.20.\n",
      "  sample_weight=sample_weight)\n",
      "/anaconda/envs/mineria/lib/python3.6/site-packages/sklearn/metrics/scorer.py:137: DeprecationWarning: Scoring method log_loss was renamed to neg_log_loss in version 0.18 and will be removed in 0.20.\n",
      "  sample_weight=sample_weight)\n"
     ]
    },
    {
     "name": "stdout",
     "output_type": "stream",
     "text": [
      "[CV]  C=21.544346900318832, penalty=l1, score=-1.48777089876611, total= 2.6min\n",
      "[CV] C=21.544346900318832, penalty=l1 ................................\n"
     ]
    },
    {
     "name": "stderr",
     "output_type": "stream",
     "text": [
      "/anaconda/envs/mineria/lib/python3.6/site-packages/sklearn/metrics/scorer.py:137: DeprecationWarning: Scoring method log_loss was renamed to neg_log_loss in version 0.18 and will be removed in 0.20.\n",
      "  sample_weight=sample_weight)\n",
      "/anaconda/envs/mineria/lib/python3.6/site-packages/sklearn/metrics/scorer.py:137: DeprecationWarning: Scoring method log_loss was renamed to neg_log_loss in version 0.18 and will be removed in 0.20.\n",
      "  sample_weight=sample_weight)\n"
     ]
    },
    {
     "name": "stdout",
     "output_type": "stream",
     "text": [
      "[CV]  C=21.544346900318832, penalty=l1, score=-1.4887227028204377, total= 3.0min\n",
      "[CV] C=21.544346900318832, penalty=l1 ................................\n"
     ]
    },
    {
     "name": "stderr",
     "output_type": "stream",
     "text": [
      "/anaconda/envs/mineria/lib/python3.6/site-packages/sklearn/metrics/scorer.py:137: DeprecationWarning: Scoring method log_loss was renamed to neg_log_loss in version 0.18 and will be removed in 0.20.\n",
      "  sample_weight=sample_weight)\n",
      "/anaconda/envs/mineria/lib/python3.6/site-packages/sklearn/metrics/scorer.py:137: DeprecationWarning: Scoring method log_loss was renamed to neg_log_loss in version 0.18 and will be removed in 0.20.\n",
      "  sample_weight=sample_weight)\n"
     ]
    },
    {
     "name": "stdout",
     "output_type": "stream",
     "text": [
      "[CV]  C=21.544346900318832, penalty=l1, score=-1.4876275200224802, total= 2.8min\n",
      "[CV] C=21.544346900318832, penalty=l2 ................................\n"
     ]
    },
    {
     "name": "stderr",
     "output_type": "stream",
     "text": [
      "/anaconda/envs/mineria/lib/python3.6/site-packages/sklearn/metrics/scorer.py:137: DeprecationWarning: Scoring method log_loss was renamed to neg_log_loss in version 0.18 and will be removed in 0.20.\n",
      "  sample_weight=sample_weight)\n",
      "/anaconda/envs/mineria/lib/python3.6/site-packages/sklearn/metrics/scorer.py:137: DeprecationWarning: Scoring method log_loss was renamed to neg_log_loss in version 0.18 and will be removed in 0.20.\n",
      "  sample_weight=sample_weight)\n"
     ]
    },
    {
     "name": "stdout",
     "output_type": "stream",
     "text": [
      "[CV]  C=21.544346900318832, penalty=l2, score=-1.4875359046166172, total=  24.1s\n",
      "[CV] C=21.544346900318832, penalty=l2 ................................\n"
     ]
    },
    {
     "name": "stderr",
     "output_type": "stream",
     "text": [
      "/anaconda/envs/mineria/lib/python3.6/site-packages/sklearn/metrics/scorer.py:137: DeprecationWarning: Scoring method log_loss was renamed to neg_log_loss in version 0.18 and will be removed in 0.20.\n",
      "  sample_weight=sample_weight)\n",
      "/anaconda/envs/mineria/lib/python3.6/site-packages/sklearn/metrics/scorer.py:137: DeprecationWarning: Scoring method log_loss was renamed to neg_log_loss in version 0.18 and will be removed in 0.20.\n",
      "  sample_weight=sample_weight)\n"
     ]
    },
    {
     "name": "stdout",
     "output_type": "stream",
     "text": [
      "[CV]  C=21.544346900318832, penalty=l2, score=-1.4871087669292995, total=  24.2s\n",
      "[CV] C=21.544346900318832, penalty=l2 ................................\n"
     ]
    },
    {
     "name": "stderr",
     "output_type": "stream",
     "text": [
      "/anaconda/envs/mineria/lib/python3.6/site-packages/sklearn/metrics/scorer.py:137: DeprecationWarning: Scoring method log_loss was renamed to neg_log_loss in version 0.18 and will be removed in 0.20.\n",
      "  sample_weight=sample_weight)\n",
      "/anaconda/envs/mineria/lib/python3.6/site-packages/sklearn/metrics/scorer.py:137: DeprecationWarning: Scoring method log_loss was renamed to neg_log_loss in version 0.18 and will be removed in 0.20.\n",
      "  sample_weight=sample_weight)\n"
     ]
    },
    {
     "name": "stdout",
     "output_type": "stream",
     "text": [
      "[CV]  C=21.544346900318832, penalty=l2, score=-1.4868705022188151, total=  24.9s\n",
      "[CV] C=59.94842503189409, penalty=l1 .................................\n"
     ]
    },
    {
     "name": "stderr",
     "output_type": "stream",
     "text": [
      "/anaconda/envs/mineria/lib/python3.6/site-packages/sklearn/metrics/scorer.py:137: DeprecationWarning: Scoring method log_loss was renamed to neg_log_loss in version 0.18 and will be removed in 0.20.\n",
      "  sample_weight=sample_weight)\n",
      "/anaconda/envs/mineria/lib/python3.6/site-packages/sklearn/metrics/scorer.py:137: DeprecationWarning: Scoring method log_loss was renamed to neg_log_loss in version 0.18 and will be removed in 0.20.\n",
      "  sample_weight=sample_weight)\n"
     ]
    },
    {
     "name": "stdout",
     "output_type": "stream",
     "text": [
      "[CV]  C=59.94842503189409, penalty=l1, score=-1.4880220378730673, total= 2.7min\n",
      "[CV] C=59.94842503189409, penalty=l1 .................................\n"
     ]
    },
    {
     "name": "stderr",
     "output_type": "stream",
     "text": [
      "/anaconda/envs/mineria/lib/python3.6/site-packages/sklearn/metrics/scorer.py:137: DeprecationWarning: Scoring method log_loss was renamed to neg_log_loss in version 0.18 and will be removed in 0.20.\n",
      "  sample_weight=sample_weight)\n",
      "/anaconda/envs/mineria/lib/python3.6/site-packages/sklearn/linear_model/base.py:340: RuntimeWarning: overflow encountered in exp\n",
      "  np.exp(prob, prob)\n",
      "/anaconda/envs/mineria/lib/python3.6/site-packages/sklearn/metrics/scorer.py:137: DeprecationWarning: Scoring method log_loss was renamed to neg_log_loss in version 0.18 and will be removed in 0.20.\n",
      "  sample_weight=sample_weight)\n"
     ]
    },
    {
     "name": "stdout",
     "output_type": "stream",
     "text": [
      "[CV]  C=59.94842503189409, penalty=l1, score=-1.4896162276690448, total= 2.6min\n",
      "[CV] C=59.94842503189409, penalty=l1 .................................\n"
     ]
    },
    {
     "name": "stderr",
     "output_type": "stream",
     "text": [
      "/anaconda/envs/mineria/lib/python3.6/site-packages/sklearn/metrics/scorer.py:137: DeprecationWarning: Scoring method log_loss was renamed to neg_log_loss in version 0.18 and will be removed in 0.20.\n",
      "  sample_weight=sample_weight)\n",
      "/anaconda/envs/mineria/lib/python3.6/site-packages/sklearn/metrics/scorer.py:137: DeprecationWarning: Scoring method log_loss was renamed to neg_log_loss in version 0.18 and will be removed in 0.20.\n",
      "  sample_weight=sample_weight)\n"
     ]
    },
    {
     "name": "stdout",
     "output_type": "stream",
     "text": [
      "[CV]  C=59.94842503189409, penalty=l1, score=-1.488196094661308, total= 2.3min\n",
      "[CV] C=59.94842503189409, penalty=l2 .................................\n"
     ]
    },
    {
     "name": "stderr",
     "output_type": "stream",
     "text": [
      "/anaconda/envs/mineria/lib/python3.6/site-packages/sklearn/metrics/scorer.py:137: DeprecationWarning: Scoring method log_loss was renamed to neg_log_loss in version 0.18 and will be removed in 0.20.\n",
      "  sample_weight=sample_weight)\n",
      "/anaconda/envs/mineria/lib/python3.6/site-packages/sklearn/metrics/scorer.py:137: DeprecationWarning: Scoring method log_loss was renamed to neg_log_loss in version 0.18 and will be removed in 0.20.\n",
      "  sample_weight=sample_weight)\n"
     ]
    },
    {
     "name": "stdout",
     "output_type": "stream",
     "text": [
      "[CV]  C=59.94842503189409, penalty=l2, score=-1.4875617064543516, total=  27.2s\n",
      "[CV] C=59.94842503189409, penalty=l2 .................................\n"
     ]
    },
    {
     "name": "stderr",
     "output_type": "stream",
     "text": [
      "/anaconda/envs/mineria/lib/python3.6/site-packages/sklearn/metrics/scorer.py:137: DeprecationWarning: Scoring method log_loss was renamed to neg_log_loss in version 0.18 and will be removed in 0.20.\n",
      "  sample_weight=sample_weight)\n",
      "/anaconda/envs/mineria/lib/python3.6/site-packages/sklearn/metrics/scorer.py:137: DeprecationWarning: Scoring method log_loss was renamed to neg_log_loss in version 0.18 and will be removed in 0.20.\n",
      "  sample_weight=sample_weight)\n"
     ]
    },
    {
     "name": "stdout",
     "output_type": "stream",
     "text": [
      "[CV]  C=59.94842503189409, penalty=l2, score=-1.487656740264069, total=  26.8s\n",
      "[CV] C=59.94842503189409, penalty=l2 .................................\n"
     ]
    },
    {
     "name": "stderr",
     "output_type": "stream",
     "text": [
      "/anaconda/envs/mineria/lib/python3.6/site-packages/sklearn/metrics/scorer.py:137: DeprecationWarning: Scoring method log_loss was renamed to neg_log_loss in version 0.18 and will be removed in 0.20.\n",
      "  sample_weight=sample_weight)\n",
      "/anaconda/envs/mineria/lib/python3.6/site-packages/sklearn/metrics/scorer.py:137: DeprecationWarning: Scoring method log_loss was renamed to neg_log_loss in version 0.18 and will be removed in 0.20.\n",
      "  sample_weight=sample_weight)\n"
     ]
    },
    {
     "name": "stdout",
     "output_type": "stream",
     "text": [
      "[CV]  C=59.94842503189409, penalty=l2, score=-1.487110294705053, total=  26.4s\n",
      "[CV] C=166.81005372000593, penalty=l1 ................................\n"
     ]
    },
    {
     "name": "stderr",
     "output_type": "stream",
     "text": [
      "/anaconda/envs/mineria/lib/python3.6/site-packages/sklearn/metrics/scorer.py:137: DeprecationWarning: Scoring method log_loss was renamed to neg_log_loss in version 0.18 and will be removed in 0.20.\n",
      "  sample_weight=sample_weight)\n",
      "/anaconda/envs/mineria/lib/python3.6/site-packages/sklearn/metrics/scorer.py:137: DeprecationWarning: Scoring method log_loss was renamed to neg_log_loss in version 0.18 and will be removed in 0.20.\n",
      "  sample_weight=sample_weight)\n"
     ]
    },
    {
     "name": "stdout",
     "output_type": "stream",
     "text": [
      "[CV]  C=166.81005372000593, penalty=l1, score=-1.4884434855124251, total=  45.7s\n",
      "[CV] C=166.81005372000593, penalty=l1 ................................\n"
     ]
    },
    {
     "name": "stderr",
     "output_type": "stream",
     "text": [
      "/anaconda/envs/mineria/lib/python3.6/site-packages/sklearn/metrics/scorer.py:137: DeprecationWarning: Scoring method log_loss was renamed to neg_log_loss in version 0.18 and will be removed in 0.20.\n",
      "  sample_weight=sample_weight)\n",
      "/anaconda/envs/mineria/lib/python3.6/site-packages/sklearn/linear_model/base.py:340: RuntimeWarning: overflow encountered in exp\n",
      "  np.exp(prob, prob)\n",
      "/anaconda/envs/mineria/lib/python3.6/site-packages/sklearn/metrics/scorer.py:137: DeprecationWarning: Scoring method log_loss was renamed to neg_log_loss in version 0.18 and will be removed in 0.20.\n",
      "  sample_weight=sample_weight)\n"
     ]
    },
    {
     "name": "stdout",
     "output_type": "stream",
     "text": [
      "[CV]  C=166.81005372000593, penalty=l1, score=-1.4900272311386593, total=  25.1s\n",
      "[CV] C=166.81005372000593, penalty=l1 ................................\n"
     ]
    },
    {
     "name": "stderr",
     "output_type": "stream",
     "text": [
      "/anaconda/envs/mineria/lib/python3.6/site-packages/sklearn/metrics/scorer.py:137: DeprecationWarning: Scoring method log_loss was renamed to neg_log_loss in version 0.18 and will be removed in 0.20.\n",
      "  sample_weight=sample_weight)\n",
      "/anaconda/envs/mineria/lib/python3.6/site-packages/sklearn/metrics/scorer.py:137: DeprecationWarning: Scoring method log_loss was renamed to neg_log_loss in version 0.18 and will be removed in 0.20.\n",
      "  sample_weight=sample_weight)\n"
     ]
    },
    {
     "name": "stdout",
     "output_type": "stream",
     "text": [
      "[CV]  C=166.81005372000593, penalty=l1, score=-1.488706833157304, total=  29.0s\n",
      "[CV] C=166.81005372000593, penalty=l2 ................................\n"
     ]
    },
    {
     "name": "stderr",
     "output_type": "stream",
     "text": [
      "/anaconda/envs/mineria/lib/python3.6/site-packages/sklearn/metrics/scorer.py:137: DeprecationWarning: Scoring method log_loss was renamed to neg_log_loss in version 0.18 and will be removed in 0.20.\n",
      "  sample_weight=sample_weight)\n",
      "/anaconda/envs/mineria/lib/python3.6/site-packages/sklearn/metrics/scorer.py:137: DeprecationWarning: Scoring method log_loss was renamed to neg_log_loss in version 0.18 and will be removed in 0.20.\n",
      "  sample_weight=sample_weight)\n"
     ]
    },
    {
     "name": "stdout",
     "output_type": "stream",
     "text": [
      "[CV]  C=166.81005372000593, penalty=l2, score=-1.4877687626026976, total=  31.7s\n",
      "[CV] C=166.81005372000593, penalty=l2 ................................\n"
     ]
    },
    {
     "name": "stderr",
     "output_type": "stream",
     "text": [
      "/anaconda/envs/mineria/lib/python3.6/site-packages/sklearn/metrics/scorer.py:137: DeprecationWarning: Scoring method log_loss was renamed to neg_log_loss in version 0.18 and will be removed in 0.20.\n",
      "  sample_weight=sample_weight)\n",
      "/anaconda/envs/mineria/lib/python3.6/site-packages/sklearn/metrics/scorer.py:137: DeprecationWarning: Scoring method log_loss was renamed to neg_log_loss in version 0.18 and will be removed in 0.20.\n",
      "  sample_weight=sample_weight)\n"
     ]
    },
    {
     "name": "stdout",
     "output_type": "stream",
     "text": [
      "[CV]  C=166.81005372000593, penalty=l2, score=-1.4881728763740205, total=  29.7s\n",
      "[CV] C=166.81005372000593, penalty=l2 ................................\n"
     ]
    },
    {
     "name": "stderr",
     "output_type": "stream",
     "text": [
      "/anaconda/envs/mineria/lib/python3.6/site-packages/sklearn/metrics/scorer.py:137: DeprecationWarning: Scoring method log_loss was renamed to neg_log_loss in version 0.18 and will be removed in 0.20.\n",
      "  sample_weight=sample_weight)\n",
      "/anaconda/envs/mineria/lib/python3.6/site-packages/sklearn/metrics/scorer.py:137: DeprecationWarning: Scoring method log_loss was renamed to neg_log_loss in version 0.18 and will be removed in 0.20.\n",
      "  sample_weight=sample_weight)\n"
     ]
    },
    {
     "name": "stdout",
     "output_type": "stream",
     "text": [
      "[CV]  C=166.81005372000593, penalty=l2, score=-1.48739969018263, total=  30.1s\n",
      "[CV] C=464.15888336127773, penalty=l1 ................................\n"
     ]
    },
    {
     "name": "stderr",
     "output_type": "stream",
     "text": [
      "/anaconda/envs/mineria/lib/python3.6/site-packages/sklearn/metrics/scorer.py:137: DeprecationWarning: Scoring method log_loss was renamed to neg_log_loss in version 0.18 and will be removed in 0.20.\n",
      "  sample_weight=sample_weight)\n",
      "/anaconda/envs/mineria/lib/python3.6/site-packages/sklearn/metrics/scorer.py:137: DeprecationWarning: Scoring method log_loss was renamed to neg_log_loss in version 0.18 and will be removed in 0.20.\n",
      "  sample_weight=sample_weight)\n"
     ]
    },
    {
     "name": "stdout",
     "output_type": "stream",
     "text": [
      "[CV]  C=464.15888336127773, penalty=l1, score=-1.4888257392169442, total=  21.6s\n",
      "[CV] C=464.15888336127773, penalty=l1 ................................\n"
     ]
    },
    {
     "name": "stderr",
     "output_type": "stream",
     "text": [
      "/anaconda/envs/mineria/lib/python3.6/site-packages/sklearn/metrics/scorer.py:137: DeprecationWarning: Scoring method log_loss was renamed to neg_log_loss in version 0.18 and will be removed in 0.20.\n",
      "  sample_weight=sample_weight)\n",
      "/anaconda/envs/mineria/lib/python3.6/site-packages/sklearn/linear_model/base.py:340: RuntimeWarning: overflow encountered in exp\n",
      "  np.exp(prob, prob)\n",
      "/anaconda/envs/mineria/lib/python3.6/site-packages/sklearn/metrics/scorer.py:137: DeprecationWarning: Scoring method log_loss was renamed to neg_log_loss in version 0.18 and will be removed in 0.20.\n",
      "  sample_weight=sample_weight)\n"
     ]
    },
    {
     "name": "stdout",
     "output_type": "stream",
     "text": [
      "[CV]  C=464.15888336127773, penalty=l1, score=-1.4904534693040823, total=  30.7s\n",
      "[CV] C=464.15888336127773, penalty=l1 ................................\n"
     ]
    },
    {
     "name": "stderr",
     "output_type": "stream",
     "text": [
      "/anaconda/envs/mineria/lib/python3.6/site-packages/sklearn/metrics/scorer.py:137: DeprecationWarning: Scoring method log_loss was renamed to neg_log_loss in version 0.18 and will be removed in 0.20.\n",
      "  sample_weight=sample_weight)\n",
      "/anaconda/envs/mineria/lib/python3.6/site-packages/sklearn/metrics/scorer.py:137: DeprecationWarning: Scoring method log_loss was renamed to neg_log_loss in version 0.18 and will be removed in 0.20.\n",
      "  sample_weight=sample_weight)\n"
     ]
    },
    {
     "name": "stdout",
     "output_type": "stream",
     "text": [
      "[CV]  C=464.15888336127773, penalty=l1, score=-1.4891824161777492, total=  18.1s\n",
      "[CV] C=464.15888336127773, penalty=l2 ................................\n"
     ]
    },
    {
     "name": "stderr",
     "output_type": "stream",
     "text": [
      "/anaconda/envs/mineria/lib/python3.6/site-packages/sklearn/metrics/scorer.py:137: DeprecationWarning: Scoring method log_loss was renamed to neg_log_loss in version 0.18 and will be removed in 0.20.\n",
      "  sample_weight=sample_weight)\n",
      "/anaconda/envs/mineria/lib/python3.6/site-packages/sklearn/metrics/scorer.py:137: DeprecationWarning: Scoring method log_loss was renamed to neg_log_loss in version 0.18 and will be removed in 0.20.\n",
      "  sample_weight=sample_weight)\n"
     ]
    },
    {
     "name": "stdout",
     "output_type": "stream",
     "text": [
      "[CV]  C=464.15888336127773, penalty=l2, score=-1.4879360296792155, total=  34.6s\n",
      "[CV] C=464.15888336127773, penalty=l2 ................................\n"
     ]
    },
    {
     "name": "stderr",
     "output_type": "stream",
     "text": [
      "/anaconda/envs/mineria/lib/python3.6/site-packages/sklearn/metrics/scorer.py:137: DeprecationWarning: Scoring method log_loss was renamed to neg_log_loss in version 0.18 and will be removed in 0.20.\n",
      "  sample_weight=sample_weight)\n",
      "/anaconda/envs/mineria/lib/python3.6/site-packages/sklearn/metrics/scorer.py:137: DeprecationWarning: Scoring method log_loss was renamed to neg_log_loss in version 0.18 and will be removed in 0.20.\n",
      "  sample_weight=sample_weight)\n"
     ]
    },
    {
     "name": "stdout",
     "output_type": "stream",
     "text": [
      "[CV]  C=464.15888336127773, penalty=l2, score=-1.488758706657247, total=  33.6s\n",
      "[CV] C=464.15888336127773, penalty=l2 ................................\n"
     ]
    },
    {
     "name": "stderr",
     "output_type": "stream",
     "text": [
      "/anaconda/envs/mineria/lib/python3.6/site-packages/sklearn/metrics/scorer.py:137: DeprecationWarning: Scoring method log_loss was renamed to neg_log_loss in version 0.18 and will be removed in 0.20.\n",
      "  sample_weight=sample_weight)\n",
      "/anaconda/envs/mineria/lib/python3.6/site-packages/sklearn/metrics/scorer.py:137: DeprecationWarning: Scoring method log_loss was renamed to neg_log_loss in version 0.18 and will be removed in 0.20.\n",
      "  sample_weight=sample_weight)\n"
     ]
    },
    {
     "name": "stdout",
     "output_type": "stream",
     "text": [
      "[CV]  C=464.15888336127773, penalty=l2, score=-1.487715857575638, total=  33.8s\n",
      "[CV] C=1291.5496650148827, penalty=l1 ................................\n"
     ]
    },
    {
     "name": "stderr",
     "output_type": "stream",
     "text": [
      "/anaconda/envs/mineria/lib/python3.6/site-packages/sklearn/metrics/scorer.py:137: DeprecationWarning: Scoring method log_loss was renamed to neg_log_loss in version 0.18 and will be removed in 0.20.\n",
      "  sample_weight=sample_weight)\n",
      "/anaconda/envs/mineria/lib/python3.6/site-packages/sklearn/metrics/scorer.py:137: DeprecationWarning: Scoring method log_loss was renamed to neg_log_loss in version 0.18 and will be removed in 0.20.\n",
      "  sample_weight=sample_weight)\n"
     ]
    },
    {
     "name": "stdout",
     "output_type": "stream",
     "text": [
      "[CV]  C=1291.5496650148827, penalty=l1, score=-1.4892065071351865, total=  21.9s\n",
      "[CV] C=1291.5496650148827, penalty=l1 ................................\n"
     ]
    },
    {
     "name": "stderr",
     "output_type": "stream",
     "text": [
      "/anaconda/envs/mineria/lib/python3.6/site-packages/sklearn/metrics/scorer.py:137: DeprecationWarning: Scoring method log_loss was renamed to neg_log_loss in version 0.18 and will be removed in 0.20.\n",
      "  sample_weight=sample_weight)\n",
      "/anaconda/envs/mineria/lib/python3.6/site-packages/sklearn/linear_model/base.py:340: RuntimeWarning: overflow encountered in exp\n",
      "  np.exp(prob, prob)\n",
      "/anaconda/envs/mineria/lib/python3.6/site-packages/sklearn/metrics/scorer.py:137: DeprecationWarning: Scoring method log_loss was renamed to neg_log_loss in version 0.18 and will be removed in 0.20.\n",
      "  sample_weight=sample_weight)\n"
     ]
    },
    {
     "name": "stdout",
     "output_type": "stream",
     "text": [
      "[CV]  C=1291.5496650148827, penalty=l1, score=-1.4908767697900722, total=  27.3s\n",
      "[CV] C=1291.5496650148827, penalty=l1 ................................\n"
     ]
    },
    {
     "name": "stderr",
     "output_type": "stream",
     "text": [
      "/anaconda/envs/mineria/lib/python3.6/site-packages/sklearn/metrics/scorer.py:137: DeprecationWarning: Scoring method log_loss was renamed to neg_log_loss in version 0.18 and will be removed in 0.20.\n",
      "  sample_weight=sample_weight)\n",
      "/anaconda/envs/mineria/lib/python3.6/site-packages/sklearn/metrics/scorer.py:137: DeprecationWarning: Scoring method log_loss was renamed to neg_log_loss in version 0.18 and will be removed in 0.20.\n",
      "  sample_weight=sample_weight)\n"
     ]
    },
    {
     "name": "stdout",
     "output_type": "stream",
     "text": [
      "[CV]  C=1291.5496650148827, penalty=l1, score=-1.489566172429995, total=  26.2s\n",
      "[CV] C=1291.5496650148827, penalty=l2 ................................\n"
     ]
    },
    {
     "name": "stderr",
     "output_type": "stream",
     "text": [
      "/anaconda/envs/mineria/lib/python3.6/site-packages/sklearn/metrics/scorer.py:137: DeprecationWarning: Scoring method log_loss was renamed to neg_log_loss in version 0.18 and will be removed in 0.20.\n",
      "  sample_weight=sample_weight)\n",
      "/anaconda/envs/mineria/lib/python3.6/site-packages/sklearn/metrics/scorer.py:137: DeprecationWarning: Scoring method log_loss was renamed to neg_log_loss in version 0.18 and will be removed in 0.20.\n",
      "  sample_weight=sample_weight)\n"
     ]
    },
    {
     "name": "stdout",
     "output_type": "stream",
     "text": [
      "[CV]  C=1291.5496650148827, penalty=l2, score=-1.4881627438194627, total=  36.5s\n",
      "[CV] C=1291.5496650148827, penalty=l2 ................................\n"
     ]
    },
    {
     "name": "stderr",
     "output_type": "stream",
     "text": [
      "/anaconda/envs/mineria/lib/python3.6/site-packages/sklearn/metrics/scorer.py:137: DeprecationWarning: Scoring method log_loss was renamed to neg_log_loss in version 0.18 and will be removed in 0.20.\n",
      "  sample_weight=sample_weight)\n",
      "/anaconda/envs/mineria/lib/python3.6/site-packages/sklearn/metrics/scorer.py:137: DeprecationWarning: Scoring method log_loss was renamed to neg_log_loss in version 0.18 and will be removed in 0.20.\n",
      "  sample_weight=sample_weight)\n"
     ]
    },
    {
     "name": "stdout",
     "output_type": "stream",
     "text": [
      "[CV]  C=1291.5496650148827, penalty=l2, score=-1.4893545582235534, total=  35.3s\n",
      "[CV] C=1291.5496650148827, penalty=l2 ................................\n"
     ]
    },
    {
     "name": "stderr",
     "output_type": "stream",
     "text": [
      "/anaconda/envs/mineria/lib/python3.6/site-packages/sklearn/metrics/scorer.py:137: DeprecationWarning: Scoring method log_loss was renamed to neg_log_loss in version 0.18 and will be removed in 0.20.\n",
      "  sample_weight=sample_weight)\n",
      "/anaconda/envs/mineria/lib/python3.6/site-packages/sklearn/metrics/scorer.py:137: DeprecationWarning: Scoring method log_loss was renamed to neg_log_loss in version 0.18 and will be removed in 0.20.\n",
      "  sample_weight=sample_weight)\n"
     ]
    },
    {
     "name": "stdout",
     "output_type": "stream",
     "text": [
      "[CV]  C=1291.5496650148827, penalty=l2, score=-1.4879568718344844, total=  36.1s\n",
      "[CV] C=3593.813663804626, penalty=l1 .................................\n"
     ]
    },
    {
     "name": "stderr",
     "output_type": "stream",
     "text": [
      "/anaconda/envs/mineria/lib/python3.6/site-packages/sklearn/metrics/scorer.py:137: DeprecationWarning: Scoring method log_loss was renamed to neg_log_loss in version 0.18 and will be removed in 0.20.\n",
      "  sample_weight=sample_weight)\n",
      "/anaconda/envs/mineria/lib/python3.6/site-packages/sklearn/metrics/scorer.py:137: DeprecationWarning: Scoring method log_loss was renamed to neg_log_loss in version 0.18 and will be removed in 0.20.\n",
      "  sample_weight=sample_weight)\n"
     ]
    },
    {
     "name": "stdout",
     "output_type": "stream",
     "text": [
      "[CV]  C=3593.813663804626, penalty=l1, score=-1.4894695366600497, total=  27.3s\n",
      "[CV] C=3593.813663804626, penalty=l1 .................................\n"
     ]
    },
    {
     "name": "stderr",
     "output_type": "stream",
     "text": [
      "/anaconda/envs/mineria/lib/python3.6/site-packages/sklearn/metrics/scorer.py:137: DeprecationWarning: Scoring method log_loss was renamed to neg_log_loss in version 0.18 and will be removed in 0.20.\n",
      "  sample_weight=sample_weight)\n",
      "/anaconda/envs/mineria/lib/python3.6/site-packages/sklearn/linear_model/base.py:340: RuntimeWarning: overflow encountered in exp\n",
      "  np.exp(prob, prob)\n",
      "/anaconda/envs/mineria/lib/python3.6/site-packages/sklearn/metrics/scorer.py:137: DeprecationWarning: Scoring method log_loss was renamed to neg_log_loss in version 0.18 and will be removed in 0.20.\n",
      "  sample_weight=sample_weight)\n"
     ]
    },
    {
     "name": "stdout",
     "output_type": "stream",
     "text": [
      "[CV]  C=3593.813663804626, penalty=l1, score=-1.4911506347292, total=  21.8s\n",
      "[CV] C=3593.813663804626, penalty=l1 .................................\n"
     ]
    },
    {
     "name": "stderr",
     "output_type": "stream",
     "text": [
      "/anaconda/envs/mineria/lib/python3.6/site-packages/sklearn/metrics/scorer.py:137: DeprecationWarning: Scoring method log_loss was renamed to neg_log_loss in version 0.18 and will be removed in 0.20.\n",
      "  sample_weight=sample_weight)\n",
      "/anaconda/envs/mineria/lib/python3.6/site-packages/sklearn/metrics/scorer.py:137: DeprecationWarning: Scoring method log_loss was renamed to neg_log_loss in version 0.18 and will be removed in 0.20.\n",
      "  sample_weight=sample_weight)\n"
     ]
    },
    {
     "name": "stdout",
     "output_type": "stream",
     "text": [
      "[CV]  C=3593.813663804626, penalty=l1, score=-1.4897049765965533, total=  28.7s\n",
      "[CV] C=3593.813663804626, penalty=l2 .................................\n"
     ]
    },
    {
     "name": "stderr",
     "output_type": "stream",
     "text": [
      "/anaconda/envs/mineria/lib/python3.6/site-packages/sklearn/metrics/scorer.py:137: DeprecationWarning: Scoring method log_loss was renamed to neg_log_loss in version 0.18 and will be removed in 0.20.\n",
      "  sample_weight=sample_weight)\n",
      "/anaconda/envs/mineria/lib/python3.6/site-packages/sklearn/metrics/scorer.py:137: DeprecationWarning: Scoring method log_loss was renamed to neg_log_loss in version 0.18 and will be removed in 0.20.\n",
      "  sample_weight=sample_weight)\n"
     ]
    },
    {
     "name": "stdout",
     "output_type": "stream",
     "text": [
      "[CV]  C=3593.813663804626, penalty=l2, score=-1.488332697506988, total=  37.4s\n",
      "[CV] C=3593.813663804626, penalty=l2 .................................\n"
     ]
    },
    {
     "name": "stderr",
     "output_type": "stream",
     "text": [
      "/anaconda/envs/mineria/lib/python3.6/site-packages/sklearn/metrics/scorer.py:137: DeprecationWarning: Scoring method log_loss was renamed to neg_log_loss in version 0.18 and will be removed in 0.20.\n",
      "  sample_weight=sample_weight)\n",
      "/anaconda/envs/mineria/lib/python3.6/site-packages/sklearn/metrics/scorer.py:137: DeprecationWarning: Scoring method log_loss was renamed to neg_log_loss in version 0.18 and will be removed in 0.20.\n",
      "  sample_weight=sample_weight)\n"
     ]
    },
    {
     "name": "stdout",
     "output_type": "stream",
     "text": [
      "[CV]  C=3593.813663804626, penalty=l2, score=-1.489504158194467, total=  36.8s\n",
      "[CV] C=3593.813663804626, penalty=l2 .................................\n"
     ]
    },
    {
     "name": "stderr",
     "output_type": "stream",
     "text": [
      "/anaconda/envs/mineria/lib/python3.6/site-packages/sklearn/metrics/scorer.py:137: DeprecationWarning: Scoring method log_loss was renamed to neg_log_loss in version 0.18 and will be removed in 0.20.\n",
      "  sample_weight=sample_weight)\n",
      "/anaconda/envs/mineria/lib/python3.6/site-packages/sklearn/metrics/scorer.py:137: DeprecationWarning: Scoring method log_loss was renamed to neg_log_loss in version 0.18 and will be removed in 0.20.\n",
      "  sample_weight=sample_weight)\n"
     ]
    },
    {
     "name": "stdout",
     "output_type": "stream",
     "text": [
      "[CV]  C=3593.813663804626, penalty=l2, score=-1.4880887458930654, total=  38.2s\n",
      "[CV] C=10000.0, penalty=l1 ...........................................\n"
     ]
    },
    {
     "name": "stderr",
     "output_type": "stream",
     "text": [
      "/anaconda/envs/mineria/lib/python3.6/site-packages/sklearn/metrics/scorer.py:137: DeprecationWarning: Scoring method log_loss was renamed to neg_log_loss in version 0.18 and will be removed in 0.20.\n",
      "  sample_weight=sample_weight)\n",
      "/anaconda/envs/mineria/lib/python3.6/site-packages/sklearn/metrics/scorer.py:137: DeprecationWarning: Scoring method log_loss was renamed to neg_log_loss in version 0.18 and will be removed in 0.20.\n",
      "  sample_weight=sample_weight)\n"
     ]
    },
    {
     "name": "stdout",
     "output_type": "stream",
     "text": [
      "[CV] .. C=10000.0, penalty=l1, score=-1.489727540628611, total=  29.0s\n",
      "[CV] C=10000.0, penalty=l1 ...........................................\n"
     ]
    },
    {
     "name": "stderr",
     "output_type": "stream",
     "text": [
      "/anaconda/envs/mineria/lib/python3.6/site-packages/sklearn/metrics/scorer.py:137: DeprecationWarning: Scoring method log_loss was renamed to neg_log_loss in version 0.18 and will be removed in 0.20.\n",
      "  sample_weight=sample_weight)\n",
      "/anaconda/envs/mineria/lib/python3.6/site-packages/sklearn/linear_model/base.py:340: RuntimeWarning: overflow encountered in exp\n",
      "  np.exp(prob, prob)\n",
      "/anaconda/envs/mineria/lib/python3.6/site-packages/sklearn/metrics/scorer.py:137: DeprecationWarning: Scoring method log_loss was renamed to neg_log_loss in version 0.18 and will be removed in 0.20.\n",
      "  sample_weight=sample_weight)\n"
     ]
    },
    {
     "name": "stdout",
     "output_type": "stream",
     "text": [
      "[CV] . C=10000.0, penalty=l1, score=-1.4915955347596437, total=  23.8s\n",
      "[CV] C=10000.0, penalty=l1 ...........................................\n"
     ]
    },
    {
     "name": "stderr",
     "output_type": "stream",
     "text": [
      "/anaconda/envs/mineria/lib/python3.6/site-packages/sklearn/metrics/scorer.py:137: DeprecationWarning: Scoring method log_loss was renamed to neg_log_loss in version 0.18 and will be removed in 0.20.\n",
      "  sample_weight=sample_weight)\n",
      "/anaconda/envs/mineria/lib/python3.6/site-packages/sklearn/metrics/scorer.py:137: DeprecationWarning: Scoring method log_loss was renamed to neg_log_loss in version 0.18 and will be removed in 0.20.\n",
      "  sample_weight=sample_weight)\n"
     ]
    },
    {
     "name": "stdout",
     "output_type": "stream",
     "text": [
      "[CV] . C=10000.0, penalty=l1, score=-1.4897310231554703, total=  28.0s\n",
      "[CV] C=10000.0, penalty=l2 ...........................................\n"
     ]
    },
    {
     "name": "stderr",
     "output_type": "stream",
     "text": [
      "/anaconda/envs/mineria/lib/python3.6/site-packages/sklearn/metrics/scorer.py:137: DeprecationWarning: Scoring method log_loss was renamed to neg_log_loss in version 0.18 and will be removed in 0.20.\n",
      "  sample_weight=sample_weight)\n",
      "/anaconda/envs/mineria/lib/python3.6/site-packages/sklearn/metrics/scorer.py:137: DeprecationWarning: Scoring method log_loss was renamed to neg_log_loss in version 0.18 and will be removed in 0.20.\n",
      "  sample_weight=sample_weight)\n"
     ]
    },
    {
     "name": "stdout",
     "output_type": "stream",
     "text": [
      "[CV] .. C=10000.0, penalty=l2, score=-1.488427907694673, total=  38.9s\n",
      "[CV] C=10000.0, penalty=l2 ...........................................\n"
     ]
    },
    {
     "name": "stderr",
     "output_type": "stream",
     "text": [
      "/anaconda/envs/mineria/lib/python3.6/site-packages/sklearn/metrics/scorer.py:137: DeprecationWarning: Scoring method log_loss was renamed to neg_log_loss in version 0.18 and will be removed in 0.20.\n",
      "  sample_weight=sample_weight)\n",
      "/anaconda/envs/mineria/lib/python3.6/site-packages/sklearn/linear_model/base.py:340: RuntimeWarning: overflow encountered in exp\n",
      "  np.exp(prob, prob)\n",
      "/anaconda/envs/mineria/lib/python3.6/site-packages/sklearn/metrics/scorer.py:137: DeprecationWarning: Scoring method log_loss was renamed to neg_log_loss in version 0.18 and will be removed in 0.20.\n",
      "  sample_weight=sample_weight)\n"
     ]
    },
    {
     "name": "stdout",
     "output_type": "stream",
     "text": [
      "[CV] . C=10000.0, penalty=l2, score=-1.4896473563772084, total=  38.6s\n",
      "[CV] C=10000.0, penalty=l2 ...........................................\n"
     ]
    },
    {
     "name": "stderr",
     "output_type": "stream",
     "text": [
      "/anaconda/envs/mineria/lib/python3.6/site-packages/sklearn/metrics/scorer.py:137: DeprecationWarning: Scoring method log_loss was renamed to neg_log_loss in version 0.18 and will be removed in 0.20.\n",
      "  sample_weight=sample_weight)\n",
      "/anaconda/envs/mineria/lib/python3.6/site-packages/sklearn/metrics/scorer.py:137: DeprecationWarning: Scoring method log_loss was renamed to neg_log_loss in version 0.18 and will be removed in 0.20.\n",
      "  sample_weight=sample_weight)\n"
     ]
    },
    {
     "name": "stdout",
     "output_type": "stream",
     "text": [
      "[CV] . C=10000.0, penalty=l2, score=-1.4881820077136887, total=  39.6s\n"
     ]
    },
    {
     "name": "stderr",
     "output_type": "stream",
     "text": [
      "[Parallel(n_jobs=1)]: Done  60 out of  60 | elapsed: 45.5min finished\n"
     ]
    },
    {
     "data": {
      "text/plain": [
       "GridSearchCV(cv=3, error_score='raise',\n",
       "       estimator=LogisticRegression(C=1.0, class_weight=None, dual=False, fit_intercept=True,\n",
       "          intercept_scaling=1, max_iter=100, multi_class='ovr', n_jobs=1,\n",
       "          penalty='l2', random_state=None, solver='liblinear', tol=0.0001,\n",
       "          verbose=0, warm_start=False),\n",
       "       fit_params=None, iid=True, n_jobs=1,\n",
       "       param_grid={'C': array([1.00000e+00, 2.78256e+00, 7.74264e+00, 2.15443e+01, 5.99484e+01,\n",
       "       1.66810e+02, 4.64159e+02, 1.29155e+03, 3.59381e+03, 1.00000e+04]), 'penalty': ['l1', 'l2']},\n",
       "       pre_dispatch='2*n_jobs', refit=True, return_train_score=True,\n",
       "       scoring='log_loss', verbose=3)"
      ]
     },
     "execution_count": 12,
     "metadata": {},
     "output_type": "execute_result"
    }
   ],
   "source": [
    "clf.fit(X_train, y_train)"
   ]
  },
  {
   "cell_type": "code",
   "execution_count": 13,
   "metadata": {
    "collapsed": true
   },
   "outputs": [],
   "source": [
    "with open(\"model_reg.pkl\", \"wb\") as f:\n",
    "     pickle.dump(clf, f)"
   ]
  },
  {
   "cell_type": "code",
   "execution_count": 14,
   "metadata": {
    "collapsed": true
   },
   "outputs": [],
   "source": [
    "with open(\"model_reg.pkl\", \"rb\") as f:\n",
    "     model_loaded = pickle.load(f)"
   ]
  },
  {
   "cell_type": "code",
   "execution_count": 15,
   "metadata": {},
   "outputs": [
    {
     "data": {
      "text/plain": [
       "-1.487093473404409"
      ]
     },
     "execution_count": 15,
     "metadata": {},
     "output_type": "execute_result"
    }
   ],
   "source": [
    "model_loaded.best_score_"
   ]
  },
  {
   "cell_type": "code",
   "execution_count": 16,
   "metadata": {},
   "outputs": [
    {
     "data": {
      "text/plain": [
       "{'C': 7.742636826811269, 'penalty': 'l2'}"
      ]
     },
     "execution_count": 16,
     "metadata": {},
     "output_type": "execute_result"
    }
   ],
   "source": [
    "model_loaded.best_params_"
   ]
  },
  {
   "cell_type": "code",
   "execution_count": null,
   "metadata": {
    "collapsed": true
   },
   "outputs": [],
   "source": [
    "pred_reg = model_loaded.predict_proba(X_test)"
   ]
  }
 ],
 "metadata": {
  "kernelspec": {
   "display_name": "Python 3",
   "language": "python",
   "name": "python3"
  },
  "language_info": {
   "codemirror_mode": {
    "name": "ipython",
    "version": 3
   },
   "file_extension": ".py",
   "mimetype": "text/x-python",
   "name": "python",
   "nbconvert_exporter": "python",
   "pygments_lexer": "ipython3",
   "version": "3.6.2"
  }
 },
 "nbformat": 4,
 "nbformat_minor": 2
}
