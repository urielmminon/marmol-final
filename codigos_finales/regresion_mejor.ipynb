{
 "cells": [
  {
   "cell_type": "code",
   "execution_count": 1,
   "metadata": {},
   "outputs": [
    {
     "data": {
      "text/plain": [
       "'/Users/zayil/Documents/Maestria_Ciencia_de_Datos/Mineria_de_Datos/Proyecto_Final'"
      ]
     },
     "execution_count": 1,
     "metadata": {},
     "output_type": "execute_result"
    }
   ],
   "source": [
    "pwd"
   ]
  },
  {
   "cell_type": "code",
   "execution_count": 2,
   "metadata": {},
   "outputs": [
    {
     "name": "stderr",
     "output_type": "stream",
     "text": [
      "/anaconda3/lib/python3.7/site-packages/sklearn/ensemble/weight_boosting.py:29: DeprecationWarning: numpy.core.umath_tests is an internal NumPy module and should not be imported. It will be removed in a future NumPy release.\n",
      "  from numpy.core.umath_tests import inner1d\n"
     ]
    }
   ],
   "source": [
    "import feather\n",
    "import numpy as np\n",
    "import pandas as pd\n",
    "import pickle\n",
    "from sklearn.model_selection import train_test_split\n",
    "from sklearn.ensemble import RandomForestClassifier\n",
    "from sklearn.model_selection import GridSearchCV"
   ]
  },
  {
   "cell_type": "code",
   "execution_count": 3,
   "metadata": {},
   "outputs": [
    {
     "name": "stderr",
     "output_type": "stream",
     "text": [
      "/anaconda3/lib/python3.7/site-packages/sklearn/base.py:311: UserWarning: Trying to unpickle estimator LogisticRegression from version 0.19.0 when using version 0.19.2. This might lead to breaking code or invalid results. Use at your own risk.\n",
      "  UserWarning)\n",
      "/anaconda3/lib/python3.7/site-packages/sklearn/base.py:311: UserWarning: Trying to unpickle estimator GridSearchCV from version 0.19.0 when using version 0.19.2. This might lead to breaking code or invalid results. Use at your own risk.\n",
      "  UserWarning)\n"
     ]
    }
   ],
   "source": [
    "with open(\"Modelos/model_reg.pkl\", \"rb\") as f:\n",
    "     model_loaded = pickle.load(f)"
   ]
  },
  {
   "cell_type": "code",
   "execution_count": 4,
   "metadata": {},
   "outputs": [
    {
     "data": {
      "text/plain": [
       "{'C': 1.0, 'penalty': 'l1'}"
      ]
     },
     "execution_count": 4,
     "metadata": {},
     "output_type": "execute_result"
    }
   ],
   "source": [
    "model_loaded.best_params_"
   ]
  },
  {
   "cell_type": "code",
   "execution_count": 5,
   "metadata": {},
   "outputs": [
    {
     "data": {
      "text/plain": [
       "-1.2497715270420358"
      ]
     },
     "execution_count": 5,
     "metadata": {},
     "output_type": "execute_result"
    }
   ],
   "source": [
    "model_loaded.best_score_"
   ]
  },
  {
   "cell_type": "code",
   "execution_count": 6,
   "metadata": {},
   "outputs": [],
   "source": [
    "walmart_df = feather.read_dataframe('Datos/walmart.feather')\n",
    "nrow=walmart_df['TripType'].count()\n",
    "walmart_df_Y=walmart_df['TripType']\n",
    "walmart_df=walmart_df.drop(['VisitNumber', 'TripType'], axis=1)"
   ]
  },
  {
   "cell_type": "code",
   "execution_count": 7,
   "metadata": {},
   "outputs": [
    {
     "name": "stdout",
     "output_type": "stream",
     "text": [
      "      Weekday  1-HR PHOTO  ACCESSORIES  AUTOMOTIVE  BAKERY  BATH AND SHOWER  \\\n",
      "0      Friday         0.0          0.0         0.0     0.0              0.0   \n",
      "1      Friday         0.0          0.0         0.0     0.0              0.0   \n",
      "2      Friday         0.0          0.0         0.0     0.0              0.0   \n",
      "3      Friday         0.0          0.0         0.0     0.0              0.0   \n",
      "4      Friday         0.0          0.0         0.0     0.0              0.0   \n",
      "5      Friday         0.0          0.0         0.0     0.0              0.0   \n",
      "6      Friday         0.0          0.0         0.0     0.0              0.0   \n",
      "7      Friday         0.0          0.0         0.0     0.0              0.0   \n",
      "8      Friday         0.0          0.0         0.0     0.0              0.0   \n",
      "9      Friday         0.0          1.0         0.0     0.0              0.0   \n",
      "10     Friday         0.0          0.0         0.0     0.0              0.0   \n",
      "11     Friday         0.0          0.0         0.0     0.0              0.0   \n",
      "12     Friday         0.0          0.0         0.0     0.0              0.0   \n",
      "13     Friday         0.0          0.0         0.0     0.0              0.0   \n",
      "14     Friday         0.0          0.0         0.0     2.0              0.0   \n",
      "15     Friday         0.0          0.0         0.0     0.0              0.0   \n",
      "16     Friday         0.0          0.0         0.0     0.0              0.0   \n",
      "17     Friday         0.0          0.0         0.0     1.0              0.0   \n",
      "18     Friday         0.0          0.0         0.0     0.0              0.0   \n",
      "19     Friday         0.0          0.0         0.0     0.0              0.0   \n",
      "20     Friday         0.0          0.0         0.0     0.0              0.0   \n",
      "21     Friday         0.0          0.0         0.0     0.0              0.0   \n",
      "22     Friday         0.0          0.0         0.0     0.0              0.0   \n",
      "23     Friday         0.0          0.0         0.0     0.0              0.0   \n",
      "24     Friday         0.0          0.0         0.0     0.0              0.0   \n",
      "25     Friday         0.0          0.0         0.0     0.0              0.0   \n",
      "26     Friday         0.0          0.0         0.0     0.0              0.0   \n",
      "27     Friday         0.0          0.0         0.0     0.0              0.0   \n",
      "28     Friday         0.0          0.0         0.0     0.0              0.0   \n",
      "29     Friday         0.0          0.0         0.0     0.0              0.0   \n",
      "...       ...         ...          ...         ...     ...              ...   \n",
      "95644  Sunday         0.0          0.0         0.0     0.0              0.0   \n",
      "95645  Sunday         0.0          0.0         0.0     0.0              0.0   \n",
      "95646  Sunday         0.0          0.0         0.0     0.0              0.0   \n",
      "95647  Sunday         0.0          0.0         0.0     0.0              0.0   \n",
      "95648  Sunday         0.0          0.0         0.0     0.0              0.0   \n",
      "95649  Sunday         0.0          0.0         0.0     0.0              0.0   \n",
      "95650  Sunday         0.0          0.0         0.0     0.0              0.0   \n",
      "95651  Sunday         0.0          0.0         0.0     0.0              0.0   \n",
      "95652  Sunday         0.0          0.0         0.0     0.0              3.0   \n",
      "95653  Sunday         0.0          0.0         1.0     1.0              0.0   \n",
      "95654  Sunday         0.0          0.0         0.0     0.0              2.0   \n",
      "95655  Sunday         0.0          0.0         0.0     0.0              0.0   \n",
      "95656  Sunday         0.0          0.0         0.0     0.0              0.0   \n",
      "95657  Sunday         0.0          0.0         0.0     0.0              0.0   \n",
      "95658  Sunday         0.0          0.0         0.0     0.0              0.0   \n",
      "95659  Sunday         0.0          0.0         0.0     0.0              0.0   \n",
      "95660  Sunday         0.0          0.0         0.0     0.0              0.0   \n",
      "95661  Sunday         0.0          0.0         0.0     0.0              0.0   \n",
      "95662  Sunday         0.0          0.0         3.0     1.0              0.0   \n",
      "95663  Sunday         0.0          0.0         0.0     0.0              0.0   \n",
      "95664  Sunday         0.0          0.0         0.0     0.0              2.0   \n",
      "95665  Sunday         0.0          0.0         0.0     0.0              0.0   \n",
      "95666  Sunday         0.0          0.0         0.0     0.0              0.0   \n",
      "95667  Sunday         0.0          0.0         0.0     1.0              0.0   \n",
      "95668  Sunday         0.0          0.0         0.0     0.0              0.0   \n",
      "95669  Sunday         0.0          0.0         0.0     0.0              0.0   \n",
      "95670  Sunday         0.0          0.0         0.0     0.0              0.0   \n",
      "95671  Sunday         0.0          0.0         0.0     0.0              0.0   \n",
      "95672  Sunday         0.0          0.0         0.0     0.0              0.0   \n",
      "95673  Sunday         0.0          0.0         0.0     0.0              0.0   \n",
      "\n",
      "       BEAUTY  BEDDING  BOOKS AND MAGAZINES  BOYS WEAR       ...        \\\n",
      "0         0.0      0.0                  0.0        0.0       ...         \n",
      "1         0.0      0.0                  0.0        0.0       ...         \n",
      "2         0.0      0.0                  0.0        0.0       ...         \n",
      "3         0.0      0.0                  0.0        0.0       ...         \n",
      "4         0.0      0.0                  0.0        0.0       ...         \n",
      "5         0.0      0.0                  0.0        0.0       ...         \n",
      "6         0.0      0.0                  0.0        2.0       ...         \n",
      "7         0.0      0.0                  0.0        0.0       ...         \n",
      "8         0.0      0.0                  0.0        0.0       ...         \n",
      "9         0.0      0.0                  0.0        0.0       ...         \n",
      "10        0.0      0.0                  0.0        0.0       ...         \n",
      "11        0.0      0.0                  0.0        0.0       ...         \n",
      "12        0.0      0.0                  0.0        0.0       ...         \n",
      "13        0.0      0.0                  0.0        0.0       ...         \n",
      "14        0.0      0.0                  0.0        0.0       ...         \n",
      "15        0.0      0.0                  0.0        0.0       ...         \n",
      "16        0.0      0.0                  0.0        0.0       ...         \n",
      "17        0.0      0.0                  0.0        0.0       ...         \n",
      "18        0.0      0.0                  0.0        0.0       ...         \n",
      "19        0.0      0.0                  0.0        0.0       ...         \n",
      "20        0.0      0.0                  0.0        0.0       ...         \n",
      "21        0.0      0.0                  0.0        0.0       ...         \n",
      "22        0.0      0.0                  0.0        0.0       ...         \n",
      "23        0.0      0.0                  0.0        0.0       ...         \n",
      "24        0.0      0.0                  0.0        0.0       ...         \n",
      "25        0.0      0.0                  0.0        0.0       ...         \n",
      "26        0.0      0.0                  0.0        0.0       ...         \n",
      "27        0.0      0.0                  0.0        0.0       ...         \n",
      "28        0.0      0.0                  0.0        0.0       ...         \n",
      "29        0.0      0.0                  0.0        0.0       ...         \n",
      "...       ...      ...                  ...        ...       ...         \n",
      "95644     0.0      0.0                  0.0        0.0       ...         \n",
      "95645     1.0      0.0                  0.0        0.0       ...         \n",
      "95646     0.0      0.0                  0.0        0.0       ...         \n",
      "95647     1.0      0.0                  0.0        0.0       ...         \n",
      "95648     0.0      0.0                  0.0        0.0       ...         \n",
      "95649     0.0      0.0                  0.0        0.0       ...         \n",
      "95650     0.0      0.0                  0.0        0.0       ...         \n",
      "95651     0.0      0.0                  0.0        0.0       ...         \n",
      "95652     2.0      0.0                  0.0        0.0       ...         \n",
      "95653     0.0      0.0                  0.0        0.0       ...         \n",
      "95654     0.0      0.0                  0.0        0.0       ...         \n",
      "95655     0.0      0.0                  0.0        0.0       ...         \n",
      "95656     0.0      0.0                  0.0        0.0       ...         \n",
      "95657     0.0      0.0                  0.0        0.0       ...         \n",
      "95658     0.0      0.0                  0.0        0.0       ...         \n",
      "95659     0.0      0.0                  0.0        0.0       ...         \n",
      "95660     0.0      0.0                  0.0        0.0       ...         \n",
      "95661     0.0      0.0                  0.0        0.0       ...         \n",
      "95662     1.0      0.0                  0.0        0.0       ...         \n",
      "95663     0.0      0.0                  1.0        0.0       ...         \n",
      "95664     0.0      0.0                  0.0        0.0       ...         \n",
      "95665     0.0      0.0                  0.0        0.0       ...         \n",
      "95666     0.0      0.0                  0.0        0.0       ...         \n",
      "95667     0.0      0.0                  0.0        0.0       ...         \n",
      "95668     0.0      0.0                  0.0        0.0       ...         \n",
      "95669     0.0      0.0                  0.0        0.0       ...         \n",
      "95670     4.0      0.0                  0.0        0.0       ...         \n",
      "95671     1.0      0.0                  0.0        0.0       ...         \n",
      "95672     0.0      0.0                  0.0        0.0       ...         \n",
      "95673     0.0      0.0                  0.0        0.0       ...         \n",
      "\n",
      "       SPORTING GOODS  SWIMWEAR/OUTERWEAR  TOYS  WIRELESS  total_prod  \\\n",
      "0                 0.0                 0.0   0.0       0.0        -1.0   \n",
      "1                 0.0                 0.0   0.0       0.0         2.0   \n",
      "2                 0.0                 0.0   0.0       0.0        28.0   \n",
      "3                 0.0                 0.0   0.0       0.0         3.0   \n",
      "4                 0.0                 0.0   0.0       0.0         3.0   \n",
      "5                 0.0                 0.0   0.0       0.0         4.0   \n",
      "6                 0.0                 0.0   0.0       0.0         7.0   \n",
      "7                 0.0                 0.0   0.0       0.0         9.0   \n",
      "8                 0.0                 0.0   0.0       0.0         4.0   \n",
      "9                 0.0                 0.0   0.0       0.0         9.0   \n",
      "10                0.0                 0.0   0.0       0.0         3.0   \n",
      "11                0.0                 0.0   0.0       0.0         2.0   \n",
      "12                0.0                 0.0   0.0       0.0         3.0   \n",
      "13                0.0                 0.0   0.0       0.0        12.0   \n",
      "14                0.0                 0.0   0.0       0.0         8.0   \n",
      "15                0.0                 0.0   0.0       0.0         1.0   \n",
      "16                0.0                 0.0   0.0       0.0         1.0   \n",
      "17                0.0                 0.0   0.0       0.0         2.0   \n",
      "18                0.0                 0.0   0.0       0.0         1.0   \n",
      "19                0.0                 0.0   0.0       0.0         3.0   \n",
      "20                0.0                 0.0   0.0       0.0         3.0   \n",
      "21                0.0                 0.0   0.0       0.0         3.0   \n",
      "22                0.0                 0.0   0.0       0.0         1.0   \n",
      "23                0.0                 0.0   0.0       0.0         4.0   \n",
      "24                0.0                 0.0   0.0       0.0         4.0   \n",
      "25                0.0                 0.0   0.0       0.0         5.0   \n",
      "26                0.0                 0.0   0.0       0.0         5.0   \n",
      "27                0.0                 0.0   0.0       0.0         1.0   \n",
      "28                0.0                 0.0   0.0       0.0         2.0   \n",
      "29                0.0                 0.0   0.0       0.0         1.0   \n",
      "...               ...                 ...   ...       ...         ...   \n",
      "95644             0.0                 0.0   0.0       0.0         4.0   \n",
      "95645             0.0                 0.0   0.0       0.0        21.0   \n",
      "95646             0.0                 0.0   0.0       0.0         3.0   \n",
      "95647             0.0                 0.0   0.0       0.0        10.0   \n",
      "95648             0.0                 0.0   0.0       0.0        27.0   \n",
      "95649             0.0                 0.0   0.0       0.0         4.0   \n",
      "95650             0.0                 0.0   0.0       0.0         1.0   \n",
      "95651             0.0                 0.0   0.0       0.0         2.0   \n",
      "95652             0.0                 0.0   0.0       0.0        24.0   \n",
      "95653             0.0                 0.0   0.0       0.0        22.0   \n",
      "95654             0.0                 0.0   1.0       0.0         9.0   \n",
      "95655             0.0                 0.0   0.0       0.0         6.0   \n",
      "95656             0.0                 0.0   0.0       1.0         1.0   \n",
      "95657             0.0                 0.0   0.0       0.0         2.0   \n",
      "95658             2.0                 0.0   0.0       2.0        22.0   \n",
      "95659             0.0                 0.0   0.0       0.0         4.0   \n",
      "95660             0.0                 0.0   0.0       0.0         7.0   \n",
      "95661             0.0                 0.0   0.0       0.0        15.0   \n",
      "95662             0.0                 0.0   0.0       0.0        22.0   \n",
      "95663             0.0                 0.0   0.0       0.0        11.0   \n",
      "95664             0.0                 0.0   0.0       0.0        20.0   \n",
      "95665             0.0                 0.0   0.0       0.0         1.0   \n",
      "95666             0.0                 0.0   0.0       0.0         9.0   \n",
      "95667             0.0                 0.0   0.0       0.0        27.0   \n",
      "95668             0.0                 0.0   0.0       0.0         2.0   \n",
      "95669             0.0                 0.0   0.0       0.0         9.0   \n",
      "95670             0.0                 0.0   0.0       1.0         5.0   \n",
      "95671             0.0                 0.0   0.0       0.0        17.0   \n",
      "95672             0.0                 0.0   0.0       0.0        17.0   \n",
      "95673             0.0                 0.0   0.0       0.0         2.0   \n",
      "\n",
      "       ind_dev  dia_mes  departamentos_visitados  prod_distintos_upc  \\\n",
      "0          1.0      1.0                        1                 0.0   \n",
      "1          0.0      1.0                        2                 2.0   \n",
      "2          1.0      1.0                        7                21.0   \n",
      "3          0.0      1.0                        2                 3.0   \n",
      "4          0.0      1.0                        2                 3.0   \n",
      "5          0.0      1.0                        3                 4.0   \n",
      "6          0.0      1.0                        4                 7.0   \n",
      "7          0.0      1.0                        1                 8.0   \n",
      "8          0.0      1.0                        2                 4.0   \n",
      "9          0.0      1.0                        6                 9.0   \n",
      "10         0.0      1.0                        2                 2.0   \n",
      "11         0.0      1.0                        2                 2.0   \n",
      "12         0.0      1.0                        2                 3.0   \n",
      "13         0.0      1.0                        5                 9.0   \n",
      "14         0.0      1.0                        4                 8.0   \n",
      "15         0.0      1.0                        1                 1.0   \n",
      "16         0.0      1.0                        1                 1.0   \n",
      "17         0.0      1.0                        2                 2.0   \n",
      "18         0.0      1.0                        1                 1.0   \n",
      "19         0.0      1.0                        2                 2.0   \n",
      "20         0.0      1.0                        2                 2.0   \n",
      "21         0.0      1.0                        2                 2.0   \n",
      "22         0.0      1.0                        1                 1.0   \n",
      "23         0.0      1.0                        4                 4.0   \n",
      "24         0.0      1.0                        4                 4.0   \n",
      "25         0.0      1.0                        3                 3.0   \n",
      "26         0.0      1.0                        3                 5.0   \n",
      "27         0.0      1.0                        1                 1.0   \n",
      "28         0.0      1.0                        1                 2.0   \n",
      "29         0.0      1.0                        1                 1.0   \n",
      "...        ...      ...                      ...                 ...   \n",
      "95644      0.0     31.0                        2                 3.0   \n",
      "95645      0.0     31.0                        8                18.0   \n",
      "95646      0.0     31.0                        3                 3.0   \n",
      "95647      0.0     31.0                        7                10.0   \n",
      "95648      0.0     31.0                        7                24.0   \n",
      "95649      0.0     31.0                        1                 2.0   \n",
      "95650      0.0     31.0                        1                 1.0   \n",
      "95651      0.0     31.0                        2                 2.0   \n",
      "95652      0.0     31.0                        5                22.0   \n",
      "95653      1.0     31.0                        7                20.0   \n",
      "95654      0.0     31.0                        6                 7.0   \n",
      "95655      0.0     31.0                        5                 6.0   \n",
      "95656      0.0     31.0                        1                 1.0   \n",
      "95657      0.0     31.0                        1                 2.0   \n",
      "95658      0.0     31.0                        8                16.0   \n",
      "95659      0.0     31.0                        2                 4.0   \n",
      "95660      0.0     31.0                        6                 7.0   \n",
      "95661      0.0     31.0                        7                14.0   \n",
      "95662      0.0     31.0                       11                20.0   \n",
      "95663      0.0     31.0                        7                11.0   \n",
      "95664      0.0     31.0                        9                20.0   \n",
      "95665      0.0     31.0                        1                 1.0   \n",
      "95666      0.0     31.0                        3                 9.0   \n",
      "95667      1.0     31.0                        7                26.0   \n",
      "95668      0.0     31.0                        1                 2.0   \n",
      "95669      0.0     31.0                        3                 7.0   \n",
      "95670      0.0     31.0                        2                 5.0   \n",
      "95671      0.0     31.0                        8                13.0   \n",
      "95672      0.0     31.0                        8                17.0   \n",
      "95673      0.0     31.0                        2                 2.0   \n",
      "\n",
      "       prod_devueltos  \n",
      "0                 1.0  \n",
      "1                 0.0  \n",
      "2                 2.0  \n",
      "3                 0.0  \n",
      "4                 0.0  \n",
      "5                 0.0  \n",
      "6                 0.0  \n",
      "7                 0.0  \n",
      "8                 0.0  \n",
      "9                 0.0  \n",
      "10                0.0  \n",
      "11                0.0  \n",
      "12                0.0  \n",
      "13                0.0  \n",
      "14                0.0  \n",
      "15                0.0  \n",
      "16                0.0  \n",
      "17                0.0  \n",
      "18                0.0  \n",
      "19                0.0  \n",
      "20                0.0  \n",
      "21                0.0  \n",
      "22                0.0  \n",
      "23                0.0  \n",
      "24                0.0  \n",
      "25                0.0  \n",
      "26                0.0  \n",
      "27                0.0  \n",
      "28                0.0  \n",
      "29                0.0  \n",
      "...               ...  \n",
      "95644             0.0  \n",
      "95645             0.0  \n",
      "95646             0.0  \n",
      "95647             0.0  \n",
      "95648             0.0  \n",
      "95649             0.0  \n",
      "95650             0.0  \n",
      "95651             0.0  \n",
      "95652             0.0  \n",
      "95653             1.0  \n",
      "95654             0.0  \n",
      "95655             0.0  \n",
      "95656             0.0  \n",
      "95657             0.0  \n",
      "95658             0.0  \n",
      "95659             0.0  \n",
      "95660             0.0  \n",
      "95661             0.0  \n",
      "95662             0.0  \n",
      "95663             0.0  \n",
      "95664             0.0  \n",
      "95665             0.0  \n",
      "95666             0.0  \n",
      "95667             2.0  \n",
      "95668             0.0  \n",
      "95669             0.0  \n",
      "95670             0.0  \n",
      "95671             0.0  \n",
      "95672             0.0  \n",
      "95673             0.0  \n",
      "\n",
      "[95674 rows x 75 columns]\n"
     ]
    }
   ],
   "source": [
    "print(walmart_df)"
   ]
  },
  {
   "cell_type": "code",
   "execution_count": 8,
   "metadata": {},
   "outputs": [],
   "source": [
    "df_Weekday = pd.get_dummies(walmart_df['Weekday'])\n",
    "walmart_df = pd.concat([walmart_df, df_Weekday], axis=1)\n",
    "walmart_df = walmart_df.drop('Weekday', axis=1)"
   ]
  },
  {
   "cell_type": "code",
   "execution_count": 9,
   "metadata": {},
   "outputs": [],
   "source": [
    "from sklearn import linear_model, datasets\n",
    "from sklearn.model_selection import GridSearchCV"
   ]
  },
  {
   "cell_type": "code",
   "execution_count": 10,
   "metadata": {},
   "outputs": [],
   "source": [
    "reg_Best_fit = model_loaded.best_estimator_"
   ]
  },
  {
   "cell_type": "code",
   "execution_count": 11,
   "metadata": {},
   "outputs": [
    {
     "data": {
      "text/plain": [
       "LogisticRegression(C=1.0, class_weight=None, dual=False, fit_intercept=True,\n",
       "          intercept_scaling=1, max_iter=100, multi_class='ovr', n_jobs=1,\n",
       "          penalty='l1', random_state=None, solver='liblinear', tol=0.0001,\n",
       "          verbose=0, warm_start=False)"
      ]
     },
     "execution_count": 11,
     "metadata": {},
     "output_type": "execute_result"
    }
   ],
   "source": [
    "reg_Best_fit.fit(walmart_df, walmart_df_Y)"
   ]
  },
  {
   "cell_type": "code",
   "execution_count": 12,
   "metadata": {},
   "outputs": [],
   "source": [
    "with open(\"Modelos/reg_best.pkl\", \"wb\") as f:\n",
    "     pickle.dump(reg_Best_fit, f)"
   ]
  },
  {
   "cell_type": "code",
   "execution_count": 13,
   "metadata": {},
   "outputs": [],
   "source": [
    "with open(\"Modelos/reg_best.pkl\", \"rb\") as f:\n",
    "     model_loaded = pickle.load(f)"
   ]
  },
  {
   "cell_type": "code",
   "execution_count": 14,
   "metadata": {},
   "outputs": [
    {
     "data": {
      "text/plain": [
       "<bound method BaseEstimator.get_params of LogisticRegression(C=1.0, class_weight=None, dual=False, fit_intercept=True,\n",
       "          intercept_scaling=1, max_iter=100, multi_class='ovr', n_jobs=1,\n",
       "          penalty='l1', random_state=None, solver='liblinear', tol=0.0001,\n",
       "          verbose=0, warm_start=False)>"
      ]
     },
     "execution_count": 14,
     "metadata": {},
     "output_type": "execute_result"
    }
   ],
   "source": [
    "model_loaded.get_params"
   ]
  },
  {
   "cell_type": "code",
   "execution_count": 15,
   "metadata": {},
   "outputs": [
    {
     "data": {
      "text/plain": [
       "<bound method ClassifierMixin.score of LogisticRegression(C=1.0, class_weight=None, dual=False, fit_intercept=True,\n",
       "          intercept_scaling=1, max_iter=100, multi_class='ovr', n_jobs=1,\n",
       "          penalty='l1', random_state=None, solver='liblinear', tol=0.0001,\n",
       "          verbose=0, warm_start=False)>"
      ]
     },
     "execution_count": 15,
     "metadata": {},
     "output_type": "execute_result"
    }
   ],
   "source": [
    "model_loaded.score"
   ]
  },
  {
   "cell_type": "markdown",
   "metadata": {},
   "source": [
    "# Calificar test"
   ]
  },
  {
   "cell_type": "code",
   "execution_count": 16,
   "metadata": {},
   "outputs": [],
   "source": [
    "walmart_df_test = feather.read_dataframe('Datos/walmart_test.feather')\n",
    "\n",
    "walmart_df_test=walmart_df_test.drop(['VisitNumber'], axis=1)"
   ]
  },
  {
   "cell_type": "code",
   "execution_count": 17,
   "metadata": {},
   "outputs": [],
   "source": [
    "df_Weekday_test = pd.get_dummies(walmart_df_test['Weekday'])\n",
    "walmart_df_test = pd.concat([walmart_df_test, df_Weekday_test], axis=1)\n",
    "walmart_df_test = walmart_df_test.drop('Weekday', axis=1)"
   ]
  },
  {
   "cell_type": "code",
   "execution_count": 18,
   "metadata": {},
   "outputs": [],
   "source": [
    "prediction=model_loaded.predict_proba(walmart_df_test)"
   ]
  },
  {
   "cell_type": "code",
   "execution_count": 19,
   "metadata": {},
   "outputs": [
    {
     "name": "stdout",
     "output_type": "stream",
     "text": [
      "[[5.09474224e-04 1.06002671e-03 8.92272043e-03 ... 1.97626084e-02\n",
      "  9.26745065e-03 1.26115879e-02]\n",
      " [1.45625849e-02 1.07443794e-02 9.13902017e-03 ... 1.91182424e-02\n",
      "  4.33780615e-03 8.35197097e-03]\n",
      " [2.07535866e-04 2.63963091e-05 1.78152551e-03 ... 1.84259468e-03\n",
      "  9.44429205e-04 9.34485024e-01]\n",
      " ...\n",
      " [1.19786725e-01 1.06943754e-03 1.57645386e-02 ... 5.74725238e-03\n",
      "  1.49203554e-03 3.61980517e-02]\n",
      " [8.26375359e-10 3.98141928e-12 5.88902326e-08 ... 7.41679955e-03\n",
      "  1.14938590e-02 3.63419415e-07]\n",
      " [1.60967645e-05 7.91610806e-08 6.14633747e-07 ... 7.27099121e-03\n",
      "  1.19026333e-02 5.00586258e-05]]\n"
     ]
    }
   ],
   "source": [
    "print(prediction)"
   ]
  },
  {
   "cell_type": "code",
   "execution_count": 20,
   "metadata": {},
   "outputs": [],
   "source": [
    "np.savetxt('Datos/pred_reg.csv',prediction, delimiter=',')"
   ]
  },
  {
   "cell_type": "code",
   "execution_count": null,
   "metadata": {},
   "outputs": [],
   "source": []
  }
 ],
 "metadata": {
  "kernelspec": {
   "display_name": "Python 3",
   "language": "python",
   "name": "python3"
  },
  "language_info": {
   "codemirror_mode": {
    "name": "ipython",
    "version": 3
   },
   "file_extension": ".py",
   "mimetype": "text/x-python",
   "name": "python",
   "nbconvert_exporter": "python",
   "pygments_lexer": "ipython3",
   "version": "3.7.0"
  }
 },
 "nbformat": 4,
 "nbformat_minor": 2
}
